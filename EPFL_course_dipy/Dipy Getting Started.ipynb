{
 "metadata": {
  "name": "Dipy Getting Started"
 },
 "nbformat": 3,
 "nbformat_minor": 0,
 "worksheets": [
  {
   "cells": [
    {
     "cell_type": "heading",
     "level": 1,
     "metadata": {},
     "source": [
      "Intro"
     ]
    },
    {
     "cell_type": "raw",
     "metadata": {},
     "source": [
      "Dipy contains the following modules\n",
      "\n",
      "| modules       | main usage                | sub-modules                        |\n",
      "| ------------- | ------------------------- | ---------------------------------- |\n",
      "| reconst       | reconstruction modules    | DTI, DSI, CST, etc.                |\n",
      "| tracking      | tractography algorithms   | EuDX, Modular tracking, distances  |\n",
      "|               |                           | metrics                            |\n",
      "| core          | general usage functions   | spheres, gradients, electrostatics |     \n",
      "| viz           | 3D visualization          | fvtk, 2D sphere plots              |\n",
      "| io            | input/io utilities        | pickles, gradients, dpy(HDF5)      |\n",
      "| external      | other software            | fsl                                |\n",
      "| align         | alignment, reslicing      | aniso2iso                          |\n",
      "| sims          | voxel & volume simulations| voxel, phantom                     |\n",
      "| data          | small data & online data  | __init__, fetcher                  |\n",
      "| segment       | clustering & segmentation | quickbundles                       |\n"
     ]
    },
    {
     "cell_type": "code",
     "collapsed": false,
     "input": [
      "import dipy"
     ],
     "language": "python",
     "metadata": {},
     "outputs": [],
     "prompt_number": 43
    },
    {
     "cell_type": "code",
     "collapsed": false,
     "input": [
      "dipy.io."
     ],
     "language": "python",
     "metadata": {},
     "outputs": []
    },
    {
     "cell_type": "heading",
     "level": 1,
     "metadata": {},
     "source": [
      "GradientTable holds b-values and b-vectors"
     ]
    },
    {
     "cell_type": "code",
     "collapsed": false,
     "input": [
      "from dipy.core.gradients import GradientTable\n",
      "\n",
      "from dipy.data import get_data\n",
      "_, fbval, fbvec = get_data('small_101D')\n",
      "\n",
      "print(fbval)\n",
      "print(fbvec)"
     ],
     "language": "python",
     "metadata": {},
     "outputs": [
      {
       "output_type": "stream",
       "stream": "stdout",
       "text": [
        "/home/eg309/Devel/dipy/dipy/data/small_101D.bval\n",
        "/home/eg309/Devel/dipy/dipy/data/small_101D.bvec\n"
       ]
      }
     ],
     "prompt_number": 13
    },
    {
     "cell_type": "code",
     "collapsed": false,
     "input": [
      "from dipy.io import read_bvals_bvecs\n",
      "bvals, bvecs = read_bvals_bvecs(fbval, fbvec)\n",
      "\n",
      "from dipy.core.gradients import gradient_table\n",
      "gtab = gradient_table(bvals, bvecs)"
     ],
     "language": "python",
     "metadata": {},
     "outputs": [],
     "prompt_number": 17
    },
    {
     "cell_type": "code",
     "collapsed": false,
     "input": [
      "gtab.bvals"
     ],
     "language": "python",
     "metadata": {},
     "outputs": [
      {
       "output_type": "pyout",
       "prompt_number": 20,
       "text": [
        "array([   15.,   310.,   310.,   330.,   615.,   635.,   595.,   615.,\n",
        "         640.,   595.,   945.,   900.,   945.,   900.,  1230.,  1230.,\n",
        "        1275.,  1540.,  1560.,  1515.,  1540.,  1540.,  1580.,  1495.,\n",
        "        1540.,  1560.,  1520.,  1585.,  1495.,  1870.,  1825.,  1870.,\n",
        "        1825.,  1870.,  1825.,  1890.,  1805.,  1890.,  1805.,  1870.,\n",
        "        1825.,  2465.,  2505.,  2420.,  2460.,  2505.,  2420.,  2770.,\n",
        "        2790.,  2750.,  2815.,  2725.,  2815.,  2725.,  2790.,  2745.,\n",
        "        2815.,  2725.,  2810.,  2725.,  2770.,  2835.,  3080.,  3100.,\n",
        "        3055.,  3075.,  3080.,  3140.,  3015.,  3075.,  3100.,  3055.,\n",
        "        3145.,  3015.,  3405.,  3365.,  3405.,  3365.,  3410.,  3365.,\n",
        "        3450.,  3320.,  3450.,  3320.,  3405.,  3360.,  3735.,  3650.,\n",
        "        3735.,  3650.,  4000.,  4045.,  3955.,  4000.,  4000.,  4065.,\n",
        "        3935.,  4000.,  4045.,  3960.,  4065.,  3935.])"
       ]
      }
     ],
     "prompt_number": 20
    },
    {
     "cell_type": "code",
     "collapsed": false,
     "input": [
      "fbval = '/home/eg309/Desktop/DSI_q4half_epfl/DSI/raw.bval'\n",
      "fbvec = '/home/eg309/Desktop/DSI_q4half_epfl/DSI/raw.bvec'\n",
      "\n",
      "bvals, bvecs = read_bvals_bvecs(fbval, fbvec)\n",
      "\n",
      "gtab = gradient_table(bvals, bvecs)"
     ],
     "language": "python",
     "metadata": {},
     "outputs": [],
     "prompt_number": 23
    },
    {
     "cell_type": "code",
     "collapsed": false,
     "input": [
      "bvals.max()"
     ],
     "language": "python",
     "metadata": {},
     "outputs": [
      {
       "output_type": "pyout",
       "prompt_number": 26,
       "text": [
        "8010.0"
       ]
      }
     ],
     "prompt_number": 26
    },
    {
     "cell_type": "code",
     "collapsed": false,
     "input": [
      "bvals"
     ],
     "language": "python",
     "metadata": {},
     "outputs": [
      {
       "output_type": "pyout",
       "prompt_number": 27,
       "text": [
        "array([    0.,   500.,   505.,   495.,   495.,   505.,   500.,  1005.,\n",
        "         995.,   995.,  1005.,  1000.,  1000.,  1000.,  1000.,  1005.,\n",
        "         995.,   995.,  1005.,  1500.,  1500.,  1500.,  1500.,  1500.,\n",
        "        1500.,  1500.,  1500.,  2000.,  2010.,  1985.,  1985.,  2010.,\n",
        "        2000.,  2505.,  2490.,  2490.,  2505.,  2510.,  2485.,  2485.,\n",
        "        2510.,  2500.,  2505.,  2490.,  2490.,  2490.,  2490.,  2505.,\n",
        "        2500.,  2510.,  2485.,  2485.,  2510.,  2505.,  2490.,  2490.,\n",
        "        2505.,  2995.,  2995.,  2995.,  2995.,  3000.,  3000.,  2990.,\n",
        "        2990.,  2990.,  2990.,  3000.,  3000.,  3000.,  3000.,  2990.,\n",
        "        2990.,  2990.,  2990.,  3000.,  3000.,  2995.,  2995.,  2995.,\n",
        "        2995.,  4005.,  3980.,  3980.,  4005.,  3990.,  3990.,  3990.,\n",
        "        3990.,  4005.,  3980.,  3980.,  4005.,  4495.,  4500.,  4500.,\n",
        "        4485.,  4485.,  4485.,  4485.,  4500.,  4500.,  4490.,  4490.,\n",
        "        4490.,  4490.,  4510.,  4470.,  4470.,  4510.,  4490.,  4490.,\n",
        "        4490.,  4490.,  4500.,  4500.,  4485.,  4485.,  4485.,  4485.,\n",
        "        4500.,  4500.,  4495.,  5000.,  4985.,  4985.,  5000.,  5010.,\n",
        "        4970.,  4970.,  5010.,  5005.,  5005.,  4975.,  4975.,  4975.,\n",
        "        4975.,  5005.,  5005.,  5010.,  4970.,  4970.,  5010.,  5000.,\n",
        "        4985.,  4985.,  5000.,  5490.,  5490.,  5490.,  5490.,  5505.,\n",
        "        5505.,  5475.,  5475.,  5475.,  5475.,  5505.,  5505.,  5505.,\n",
        "        5505.,  5475.,  5475.,  5475.,  5475.,  5505.,  5505.,  5490.,\n",
        "        5490.,  5490.,  5490.,  5990.,  5990.,  5990.,  5990.,  5990.,\n",
        "        5990.,  5990.,  5990.,  6500.,  6475.,  6475.,  6500.,  6510.,\n",
        "        6470.,  6470.,  6510.,  6495.,  6495.,  6480.,  6480.,  6480.,\n",
        "        6480.,  6495.,  6495.,  6510.,  6470.,  6470.,  6510.,  6500.,\n",
        "        6475.,  6475.,  6500.,  6995.,  6995.,  6980.,  6980.,  6980.,\n",
        "        6980.,  6995.,  6995.,  7000.,  7000.,  6975.,  6975.,  6975.,\n",
        "        6975.,  7000.,  7000.,  6990.,  6990.,  6980.,  6980.,  6980.,\n",
        "        6980.,  6995.,  6990.,  6990.,  6995.,  6980.,  6980.,  6980.,\n",
        "        6980.,  6990.,  6990.,  7000.,  7000.,  6975.,  6975.,  6975.,\n",
        "        6975.,  7000.,  7000.,  6995.,  6995.,  6980.,  6980.,  6980.,\n",
        "        6980.,  6995.,  6995.,  7985.,  8010.,  7955.,  7955.,  8010.,\n",
        "        7985.,     0.,     0.,     0.,     0.,     0.,     0.,     0.,\n",
        "           0.,     0.,     0.,     0.,     0.,     0.,     0.,     0.,\n",
        "           0.,     0.,     0.,     0.,     0.,     0.,     0.,     0.,\n",
        "           0.,     0.,     0.,     0.,     0.,     0.,     0.,     0.,\n",
        "           0.,     0.,     0.,     0.,     0.,     0.,     0.,     0.,\n",
        "           0.,     0.,     0.,     0.,     0.,     0.,     0.,     0.,\n",
        "           0.,     0.,     0.,     0.,     0.,     0.,     0.,     0.,\n",
        "           0.,     0.,     0.,     0.,     0.,     0.,     0.,     0.,\n",
        "           0.,     0.,     0.,     0.,     0.,     0.,     0.,     0.,\n",
        "           0.,     0.,     0.,     0.,     0.,     0.,     0.,     0.,\n",
        "           0.,     0.,     0.,     0.,     0.,     0.,     0.,     0.,\n",
        "           0.,     0.,     0.,     0.,     0.,     0.,     0.,     0.,\n",
        "           0.,     0.,     0.,     0.,     0.,     0.,     0.,     0.,\n",
        "           0.,     0.,     0.,     0.,     0.,     0.,     0.,     0.,\n",
        "           0.,     0.,     0.,     0.,     0.,     0.,     0.,     0.,\n",
        "           0.,     0.,     0.,     0.,     0.,     0.,     0.,     0.,\n",
        "           0.,     0.,     0.,     0.,     0.,     0.,     0.,     0.,\n",
        "           0.,     0.,     0.,     0.,     0.,     0.,     0.,     0.,\n",
        "           0.,     0.,     0.,     0.,     0.,     0.,     0.,     0.,\n",
        "           0.,     0.,     0.,     0.,     0.,     0.,     0.,     0.,\n",
        "           0.,     0.,     0.,     0.,     0.,     0.,     0.,     0.,\n",
        "           0.,     0.,     0.,     0.,     0.,     0.,     0.,     0.,\n",
        "           0.,     0.,     0.,     0.,     0.,     0.,     0.,     0.,\n",
        "           0.,     0.,     0.,     0.,     0.,     0.,     0.,     0.,\n",
        "           0.,     0.,     0.,     0.,     0.,     0.,     0.,     0.,\n",
        "           0.,     0.,     0.,     0.,     0.,     0.,     0.,     0.,\n",
        "           0.,     0.,     0.,     0.,     0.,     0.,     0.,     0.,\n",
        "           0.,     0.,     0.,     0.,     0.,     0.,     0.,     0.,\n",
        "           0.,     0.,     0.,     0.,     0.,     0.,     0.,     0.,\n",
        "           0.,     0.,     0.,     0.,     0.,     0.,     0.,     0.,\n",
        "           0.,     0.,     0.,     0.,     0.,     0.,     0.,     0.,\n",
        "           0.,     0.,     0.,     0.,     0.,     0.,     0.,     0.,\n",
        "           0.,     0.,     0.])"
       ]
      }
     ],
     "prompt_number": 27
    },
    {
     "cell_type": "code",
     "collapsed": false,
     "input": [
      "gtab.b0s_mask"
     ],
     "language": "python",
     "metadata": {},
     "outputs": [
      {
       "output_type": "pyout",
       "prompt_number": 24,
       "text": [
        "array([ True, False, False, False, False, False, False, False, False,\n",
        "       False, False, False, False, False, False, False, False, False,\n",
        "       False, False, False, False, False, False, False, False, False,\n",
        "       False, False, False, False, False, False, False, False, False,\n",
        "       False, False, False, False, False, False, False, False, False,\n",
        "       False, False, False, False, False, False, False, False, False,\n",
        "       False, False, False, False, False, False, False, False, False,\n",
        "       False, False, False, False, False, False, False, False, False,\n",
        "       False, False, False, False, False, False, False, False, False,\n",
        "       False, False, False, False, False, False, False, False, False,\n",
        "       False, False, False, False, False, False, False, False, False,\n",
        "       False, False, False, False, False, False, False, False, False,\n",
        "       False, False, False, False, False, False, False, False, False,\n",
        "       False, False, False, False, False, False, False, False, False,\n",
        "       False, False, False, False, False, False, False, False, False,\n",
        "       False, False, False, False, False, False, False, False, False,\n",
        "       False, False, False, False, False, False, False, False, False,\n",
        "       False, False, False, False, False, False, False, False, False,\n",
        "       False, False, False, False, False, False, False, False, False,\n",
        "       False, False, False, False, False, False, False, False, False,\n",
        "       False, False, False, False, False, False, False, False, False,\n",
        "       False, False, False, False, False, False, False, False, False,\n",
        "       False, False, False, False, False, False, False, False, False,\n",
        "       False, False, False, False, False, False, False, False, False,\n",
        "       False, False, False, False, False, False, False, False, False,\n",
        "       False, False, False, False, False, False, False, False, False,\n",
        "       False, False, False, False, False, False, False, False, False,\n",
        "       False, False, False, False, False, False, False, False, False,\n",
        "       False, False, False, False, False,  True,  True,  True,  True,\n",
        "        True,  True,  True,  True,  True,  True,  True,  True,  True,\n",
        "        True,  True,  True,  True,  True,  True,  True,  True,  True,\n",
        "        True,  True,  True,  True,  True,  True,  True,  True,  True,\n",
        "        True,  True,  True,  True,  True,  True,  True,  True,  True,\n",
        "        True,  True,  True,  True,  True,  True,  True,  True,  True,\n",
        "        True,  True,  True,  True,  True,  True,  True,  True,  True,\n",
        "        True,  True,  True,  True,  True,  True,  True,  True,  True,\n",
        "        True,  True,  True,  True,  True,  True,  True,  True,  True,\n",
        "        True,  True,  True,  True,  True,  True,  True,  True,  True,\n",
        "        True,  True,  True,  True,  True,  True,  True,  True,  True,\n",
        "        True,  True,  True,  True,  True,  True,  True,  True,  True,\n",
        "        True,  True,  True,  True,  True,  True,  True,  True,  True,\n",
        "        True,  True,  True,  True,  True,  True,  True,  True,  True,\n",
        "        True,  True,  True,  True,  True,  True,  True,  True,  True,\n",
        "        True,  True,  True,  True,  True,  True,  True,  True,  True,\n",
        "        True,  True,  True,  True,  True,  True,  True,  True,  True,\n",
        "        True,  True,  True,  True,  True,  True,  True,  True,  True,\n",
        "        True,  True,  True,  True,  True,  True,  True,  True,  True,\n",
        "        True,  True,  True,  True,  True,  True,  True,  True,  True,\n",
        "        True,  True,  True,  True,  True,  True,  True,  True,  True,\n",
        "        True,  True,  True,  True,  True,  True,  True,  True,  True,\n",
        "        True,  True,  True,  True,  True,  True,  True,  True,  True,\n",
        "        True,  True,  True,  True,  True,  True,  True,  True,  True,\n",
        "        True,  True,  True,  True,  True,  True,  True,  True,  True,\n",
        "        True,  True,  True,  True,  True,  True,  True,  True,  True,\n",
        "        True,  True,  True,  True,  True,  True,  True,  True,  True,\n",
        "        True,  True,  True,  True,  True,  True,  True,  True,  True,\n",
        "        True,  True,  True,  True,  True,  True,  True,  True,  True,\n",
        "        True,  True], dtype=bool)"
       ]
      }
     ],
     "prompt_number": 24
    },
    {
     "cell_type": "code",
     "collapsed": false,
     "input": [],
     "language": "python",
     "metadata": {},
     "outputs": []
    },
    {
     "cell_type": "heading",
     "level": 1,
     "metadata": {},
     "source": [
      "An object to hold and manipulate Spheres"
     ]
    },
    {
     "cell_type": "code",
     "collapsed": false,
     "input": [
      "from dipy.core.sphere import Sphere"
     ],
     "language": "python",
     "metadata": {},
     "outputs": [],
     "prompt_number": 5
    },
    {
     "cell_type": "code",
     "collapsed": false,
     "input": [
      "from dipy.data import get_sphere"
     ],
     "language": "python",
     "metadata": {},
     "outputs": [],
     "prompt_number": 6
    },
    {
     "cell_type": "code",
     "collapsed": false,
     "input": [
      "sphere = get_sphere('symmetric724')"
     ],
     "language": "python",
     "metadata": {},
     "outputs": [],
     "prompt_number": 7
    },
    {
     "cell_type": "code",
     "collapsed": false,
     "input": [
      "sphere.vertices.shape"
     ],
     "language": "python",
     "metadata": {},
     "outputs": [
      {
       "output_type": "pyout",
       "prompt_number": 8,
       "text": [
        "(724, 3)"
       ]
      }
     ],
     "prompt_number": 8
    },
    {
     "cell_type": "code",
     "collapsed": false,
     "input": [
      "sphere = sphere.subdivide(1)"
     ],
     "language": "python",
     "metadata": {},
     "outputs": [],
     "prompt_number": 9
    },
    {
     "cell_type": "code",
     "collapsed": false,
     "input": [
      "sphere.vertices.shape"
     ],
     "language": "python",
     "metadata": {},
     "outputs": [
      {
       "output_type": "pyout",
       "prompt_number": 10,
       "text": [
        "(2890, 3)"
       ]
      }
     ],
     "prompt_number": 10
    },
    {
     "cell_type": "code",
     "collapsed": false,
     "input": [
      "from mpl_toolkits.mplot3d import Axes3D\n",
      "import matplotlib.pyplot as plt\n",
      "\n",
      "fig = plt.figure()\n",
      "ax = fig.add_subplot(111, projection='3d')\n",
      "ax.scatter(sphere.x, sphere.y, sphere.z)\n",
      "ax.set_xlabel('X Label')\n",
      "ax.set_ylabel('Y Label')\n",
      "ax.set_zlabel('Z Label')\n",
      "plt.show()"
     ],
     "language": "python",
     "metadata": {},
     "outputs": [],
     "prompt_number": 12
    },
    {
     "cell_type": "markdown",
     "metadata": {},
     "source": [
      "For more information for 3D plotting with matplotlib (pylab) see \n",
      "http://matplotlib.org/mpl_toolkits/mplot3d/tutorial.html"
     ]
    },
    {
     "cell_type": "heading",
     "level": 2,
     "metadata": {},
     "source": [
      "Load/Save Neuroimaging data using Nibabel"
     ]
    },
    {
     "cell_type": "code",
     "collapsed": false,
     "input": [
      "fbvec = '/home/eg309/Desktop/DSI_q4half_epfl/DSI/raw.nii.gz'"
     ],
     "language": "python",
     "metadata": {},
     "outputs": [],
     "prompt_number": 28
    },
    {
     "cell_type": "code",
     "collapsed": false,
     "input": [
      "import nibabel as nib"
     ],
     "language": "python",
     "metadata": {},
     "outputs": [],
     "prompt_number": 29
    },
    {
     "cell_type": "code",
     "collapsed": false,
     "input": [
      "img = nib.load(fbvec)"
     ],
     "language": "python",
     "metadata": {},
     "outputs": [],
     "prompt_number": 30
    },
    {
     "cell_type": "code",
     "collapsed": false,
     "input": [
      "data = img.get_data()"
     ],
     "language": "python",
     "metadata": {},
     "outputs": [],
     "prompt_number": 31
    },
    {
     "cell_type": "code",
     "collapsed": false,
     "input": [
      "affine = img.get_affine()"
     ],
     "language": "python",
     "metadata": {},
     "outputs": [],
     "prompt_number": 32
    },
    {
     "cell_type": "code",
     "collapsed": false,
     "input": [
      "voxel_size = img.get_header().get_zooms()[:3]"
     ],
     "language": "python",
     "metadata": {},
     "outputs": [],
     "prompt_number": 34
    },
    {
     "cell_type": "code",
     "collapsed": false,
     "input": [
      "data.shape"
     ],
     "language": "python",
     "metadata": {},
     "outputs": [
      {
       "output_type": "pyout",
       "prompt_number": 35,
       "text": [
        "(96, 96, 34, 515)"
       ]
      }
     ],
     "prompt_number": 35
    },
    {
     "cell_type": "code",
     "collapsed": false,
     "input": [
      "data2 = data[40:50, 40:50, 20:30, :]"
     ],
     "language": "python",
     "metadata": {},
     "outputs": [],
     "prompt_number": 36
    },
    {
     "cell_type": "code",
     "collapsed": false,
     "input": [
      "data2.shape"
     ],
     "language": "python",
     "metadata": {},
     "outputs": [
      {
       "output_type": "pyout",
       "prompt_number": 37,
       "text": [
        "(10, 10, 10, 515)"
       ]
      }
     ],
     "prompt_number": 37
    },
    {
     "cell_type": "code",
     "collapsed": false,
     "input": [
      "affine2 = affine.copy()\n",
      "affine2"
     ],
     "language": "python",
     "metadata": {},
     "outputs": [
      {
       "output_type": "pyout",
       "prompt_number": 38,
       "text": [
        "array([[  -2.20833325,    0.        ,    0.        ,  107.63172913],\n",
        "       [   0.        ,    2.20833325,    0.        ,  -70.14723969],\n",
        "       [   0.        ,    0.        ,    3.        ,  -26.10712624],\n",
        "       [   0.        ,    0.        ,    0.        ,    1.        ]])"
       ]
      }
     ],
     "prompt_number": 38
    },
    {
     "cell_type": "code",
     "collapsed": false,
     "input": [
      "affine2[:3, 3] += np.array([40, 40, 20])"
     ],
     "language": "python",
     "metadata": {},
     "outputs": [],
     "prompt_number": 44
    },
    {
     "cell_type": "code",
     "collapsed": false,
     "input": [
      "affine2[:3, 3]"
     ],
     "language": "python",
     "metadata": {},
     "outputs": [
      {
       "output_type": "pyout",
       "prompt_number": 45,
       "text": [
        "array([ 147.63172913,  -30.14723969,   -6.10712624])"
       ]
      }
     ],
     "prompt_number": 45
    },
    {
     "cell_type": "code",
     "collapsed": false,
     "input": [
      "nib.save(nib.Nifti1Image(data2, affine2), 'smaller_image.nii.gz')"
     ],
     "language": "python",
     "metadata": {},
     "outputs": [],
     "prompt_number": 46
    },
    {
     "cell_type": "code",
     "collapsed": false,
     "input": [
      "!fslview smaller_image.nii.gz"
     ],
     "language": "python",
     "metadata": {},
     "outputs": [],
     "prompt_number": 47
    },
    {
     "cell_type": "code",
     "collapsed": false,
     "input": [],
     "language": "python",
     "metadata": {},
     "outputs": []
    }
   ],
   "metadata": {}
  }
 ]
}