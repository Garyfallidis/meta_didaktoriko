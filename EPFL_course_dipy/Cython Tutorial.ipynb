{
 "metadata": {
  "name": "Cython Tutorial"
 },
 "nbformat": 3,
 "nbformat_minor": 0,
 "worksheets": [
  {
   "cells": [
    {
     "cell_type": "code",
     "collapsed": false,
     "input": [
      "%load_ext cythonmagic"
     ],
     "language": "python",
     "metadata": {},
     "outputs": [],
     "prompt_number": 1
    },
    {
     "cell_type": "code",
     "collapsed": false,
     "input": [
      "%%cython\n",
      "import numpy as np\n",
      "cimport cython\n",
      "from libc.math cimport sqrt\n",
      "\n",
      "@cython.boundscheck(False)\n",
      "@cython.wraparound(False)\n",
      "def pairwise_cython(double[:, ::1] X):\n",
      "    cdef int M = X.shape[0]\n",
      "    cdef int N = X.shape[1]\n",
      "    cdef double tmp, d\n",
      "    cdef double[:, ::1] D = np.empty((M, M), dtype=np.float64)\n",
      "    with nogil:\n",
      "        for i in range(M):\n",
      "            for j in range(M):\n",
      "                d = 0.0\n",
      "                for k in range(N):\n",
      "                    tmp = X[i, k] - X[j, k]\n",
      "                    d += tmp * tmp\n",
      "                D[i, j] = sqrt(d)\n",
      "    return np.asarray(D)\n",
      "\n",
      "@cython.boundscheck(False)\n",
      "@cython.wraparound(False)\n",
      "def test_4darray(double[:,:,:,:] X, int value):\n",
      "    cdef int I = X.shape[0]\n",
      "    cdef int J = X.shape[1]\n",
      "    cdef int K = X.shape[2]\n",
      "    cdef int L = X.shape[3]\n",
      "    cdef int i, j, k, l\n",
      "    with nogil:\n",
      "        for i in range(I):\n",
      "            for j in range(J):\n",
      "                for k in range(K):\n",
      "                    for l in range(L):\n",
      "                        X[i, j, k, l] = value\n",
      "    return np.asarray(X)"
     ],
     "language": "python",
     "metadata": {},
     "outputs": [],
     "prompt_number": 2
    },
    {
     "cell_type": "code",
     "collapsed": false,
     "input": [
      "X = np.random.random((1000, 3))"
     ],
     "language": "python",
     "metadata": {},
     "outputs": [],
     "prompt_number": 3
    },
    {
     "cell_type": "code",
     "collapsed": false,
     "input": [
      "%timeit pairwise_cython(X)"
     ],
     "language": "python",
     "metadata": {},
     "outputs": [
      {
       "output_type": "stream",
       "stream": "stdout",
       "text": [
        "100 loops, best of 3: 9.66 ms per loop\n"
       ]
      }
     ],
     "prompt_number": 4
    },
    {
     "cell_type": "code",
     "collapsed": false,
     "input": [
      "Y = np.random.random((30, 20, 4, 2))\n",
      "Y2 = test_4darray(Y, 5)"
     ],
     "language": "python",
     "metadata": {},
     "outputs": [],
     "prompt_number": 5
    },
    {
     "cell_type": "code",
     "collapsed": false,
     "input": [
      "%timeit Y2 = test_4darray(Y, 5)"
     ],
     "language": "python",
     "metadata": {},
     "outputs": [
      {
       "output_type": "stream",
       "stream": "stdout",
       "text": [
        "10000 loops, best of 3: 24.7 us per loop\n"
       ]
      }
     ],
     "prompt_number": 6
    },
    {
     "cell_type": "code",
     "collapsed": false,
     "input": [
      "%timeit pairwise_cython(X)"
     ],
     "language": "python",
     "metadata": {},
     "outputs": [
      {
       "output_type": "stream",
       "stream": "stdout",
       "text": [
        "100 loops, best of 3: 9.65 ms per loop\n"
       ]
      }
     ],
     "prompt_number": 7
    },
    {
     "cell_type": "code",
     "collapsed": false,
     "input": [
      "def pairwise_numpy(X):\n",
      "    M = X.shape[0]\n",
      "    N = X.shape[1]\n",
      "    D = np.empty((M, M), dtype=np.float64)\n",
      "\n",
      "    for i in range(M):\n",
      "        for j in range(M):\n",
      "            d = 0.0\n",
      "            for k in range(N):\n",
      "                tmp = X[i, k] - X[j, k]\n",
      "                d += tmp * tmp\n",
      "            D[i, j] = np.sqrt(d)\n",
      "    return np.asarray(D)"
     ],
     "language": "python",
     "metadata": {},
     "outputs": [],
     "prompt_number": 8
    },
    {
     "cell_type": "code",
     "collapsed": false,
     "input": [
      "%timeit pairwise_numpy(X)"
     ],
     "language": "python",
     "metadata": {},
     "outputs": [
      {
       "output_type": "stream",
       "stream": "stdout",
       "text": [
        "1 loops, best of 3: 6.14 s per loop\n"
       ]
      }
     ],
     "prompt_number": 9
    },
    {
     "cell_type": "code",
     "collapsed": false,
     "input": [
      "def pairwise_numpy_broadcasting(X):\n",
      "    return np.sqrt(((X[:, None, :] - X) ** 2).sum(-1))"
     ],
     "language": "python",
     "metadata": {},
     "outputs": [],
     "prompt_number": 10
    },
    {
     "cell_type": "code",
     "collapsed": false,
     "input": [
      "%timeit pairwise_numpy_broadcasting(X)"
     ],
     "language": "python",
     "metadata": {},
     "outputs": [
      {
       "output_type": "stream",
       "stream": "stdout",
       "text": [
        "10 loops, best of 3: 56.4 ms per loop\n"
       ]
      }
     ],
     "prompt_number": 11
    },
    {
     "cell_type": "raw",
     "metadata": {},
     "source": [
      "Neural Network Example\n"
     ]
    },
    {
     "cell_type": "code",
     "collapsed": false,
     "input": [
      "class Nnet:\n",
      "    def __init__(self):\n",
      "        self.rng    = np.random.mtrand.RandomState(1337) # 1337 is the seed of the mersenne twister\n",
      "        self.input  = self.rng.rand(2,500)\n",
      "        self.W      = self.rng.rand(500,400)\n",
      "        self.V      = self.rng.rand(400,25)\n",
      "        self.actF   = lambda x: 1/(1+np.exp(-x))\n",
      "        self.dActF  = lambda s: s*(1-s)\n",
      "        self.target = self.rng.rand(2,25)\n",
      "        self.lr     = 0.01\n",
      "\n",
      "    def prop(self, i):\n",
      "        # std prop : ei is at neuron entry, si at its exit\n",
      "        self.e1 = np.dot(self.input[i], self.W)\n",
      "        #self.s1 = self.actF(self.e1)\n",
      "        #self.e2 = np.dot(self.s1, self.V)\n",
      "        #self.s2 = self.actF(self.e2)\n",
      "\n",
      "    def backprop(self, i):\n",
      "        ds2 = self.s2 - self.target[i]\n",
      "        de2 = self.dActF(self.s2) * ds2\n",
      "        ds1 = np.dot(self.V, de2)\n",
      "        de1 = self.dActF(self.s1) * ds1\n",
      "        self.dV = np.outer(self.s1, de2)\n",
      "        self.dW = np.outer(self.input[i], de1)\n",
      "\n",
      "    def update(self):\n",
      "        self.W -= self.lr * self.dW\n",
      "        self.V -= self.lr * self.dV\n",
      "\n",
      "    def train(self):\n",
      "        for i in xrange(2000):\n",
      "            j = i % 2\n",
      "            self.prop(j)\n",
      "            #self.backprop(j)\n",
      "            #self.update()\n"
     ],
     "language": "python",
     "metadata": {},
     "outputs": [],
     "prompt_number": 12
    },
    {
     "cell_type": "code",
     "collapsed": false,
     "input": [
      "nn = Nnet()\n",
      "%timeit nn.train()"
     ],
     "language": "python",
     "metadata": {},
     "outputs": [
      {
       "output_type": "stream",
       "stream": "stdout",
       "text": [
        "1 loops, best of 3: 2.22 s per loop\n"
       ]
      }
     ],
     "prompt_number": 13
    },
    {
     "cell_type": "code",
     "collapsed": false,
     "input": [
      "%%cython\n",
      "import numpy as np\n",
      "cimport cython\n",
      "\n",
      "from libc.math cimport sqrt, exp\n",
      "\n",
      "#cdef extern from \"cblas.h\":\n",
      "#    double cblas_ddot(int N, double *X, int incX, double *Y, int incY)\n",
      "\n",
      "\n",
      "class CNnet:\n",
      "    def __init__(self):\n",
      "        self.rng    = np.random.mtrand.RandomState(1337) # 1337 is the seed of the mersenne twister\n",
      "        self.input  = self.rng.rand(2,500)\n",
      "        self.W      = self.rng.rand(500,400)\n",
      "        self.V      = self.rng.rand(400,25)\n",
      "        self.actF   = lambda x: 1/(1+np.exp(-x))\n",
      "        self.dActF  = lambda s: s*(1-s)\n",
      "        self.target = self.rng.rand(2,25)\n",
      "        self.lr     = 0.01\n",
      "        \n",
      "    def train(self):\n",
      "        \n",
      "      start_training(self.input, self.W, self.V, self.target, self.lr)                  \n",
      "\n",
      "\n",
      "@cython.boundscheck(False)\n",
      "@cython.wraparound(False)\n",
      "def start_training(double[:, ::1] input_, double[:, ::1] W, double[:, ::1] V, double[:, ::1] target, double lr):\n",
      "    cdef int i, j\n",
      "    cdef double e1_mem[400]\n",
      "    cdef double[:] e1 = e1_mem\n",
      "    \n",
      "    with nogil:\n",
      "        for i in range(2000):\n",
      "            j = i % 2\n",
      "            #prop\n",
      "            cdot_A1d(input_[j], W, e1) \n",
      "\n",
      "def dot_test():\n",
      "    A = np.ascontiguousarray(np.arange(12).reshape(4, 3),'f8')\n",
      "    B = np.ascontiguousarray(np.arange(12).reshape(3, 4),'f8')\n",
      "    D = np.ascontiguousarray(np.zeros((4, 4)), 'f8')\n",
      "    E = np.ascontiguousarray(np.zeros(4), 'f8')\n",
      "    cdot(A, B, D)\n",
      "    print(A)\n",
      "    print(B)\n",
      "    print(D)\n",
      "    print(np.dot(A, B))\n",
      "    print('------------')\n",
      "    cdot(np.ascontiguousarray(2 * A[0][None, :]), B, D)\n",
      "    print(D)\n",
      "    print(np.dot(A[0], B))\n",
      "    print('------------')\n",
      "    cdot_A1d(A[0], B, E)\n",
      "    print(E)\n",
      "       \n",
      "        \n",
      "@cython.boundscheck(False)\n",
      "@cython.wraparound(False)\n",
      "cdef void cdot(double[:, ::1] A, double[:, ::1] B, double[:, ::1] D) nogil:\n",
      "    cdef int M = A.shape[0] # MxK\n",
      "    cdef int K = A.shape[1] # MxK    \n",
      "    cdef int N = B.shape[1] # KxN\n",
      "    \n",
      "    for m in range(M):\n",
      "        for n in range(N):\n",
      "            D[m, n] = 0.0\n",
      "            for k in range(K):\n",
      "                D[m, n] += A[m, k] * B[k, n]\n",
      "    return\n",
      "\n",
      "\n",
      "@cython.boundscheck(False)\n",
      "@cython.wraparound(False)\n",
      "cdef void cdot_A1d(double[:] A, double[:, ::1] B, double[:] D) nogil:\n",
      "    cdef int M = A.shape[0] # MxK    \n",
      "    cdef int N = B.shape[1] # KxN\n",
      "    \n",
      "    for n in range(N):\n",
      "        D[n] = 0.0\n",
      "        for m in range(M):\n",
      "            D[n] += A[m] * B[m, n]\n",
      "    return\n",
      "\n",
      "\n",
      "@cython.cdivision(True)\n",
      "@cython.boundscheck(False)\n",
      "@cython.wraparound(False)\n",
      "cdef void cactF(double[:] A, double[:] B) nogil:\n",
      "    cdef int M = A.shape[0]\n",
      "    \n",
      "    for m in range(M):\n",
      "        B[m] = 1/(1 + exp(-A[m]))\n",
      "            \n",
      "    return\n"
     ],
     "language": "python",
     "metadata": {},
     "outputs": [],
     "prompt_number": 15
    },
    {
     "cell_type": "code",
     "collapsed": false,
     "input": [
      "dot_test()"
     ],
     "language": "python",
     "metadata": {},
     "outputs": [
      {
       "output_type": "stream",
       "stream": "stdout",
       "text": [
        "[[  0.   1.   2.]\n",
        " [  3.   4.   5.]\n",
        " [  6.   7.   8.]\n",
        " [  9.  10.  11.]]\n",
        "[[  0.   1.   2.   3.]\n",
        " [  4.   5.   6.   7.]\n",
        " [  8.   9.  10.  11.]]\n",
        "[[  20.   23.   26.   29.]\n",
        " [  56.   68.   80.   92.]\n",
        " [  92.  113.  134.  155.]\n",
        " [ 128.  158.  188.  218.]]\n",
        "[[  20.   23.   26.   29.]\n",
        " [  56.   68.   80.   92.]\n",
        " [  92.  113.  134.  155.]\n",
        " [ 128.  158.  188.  218.]]\n",
        "------------\n",
        "[[  40.   46.   52.   58.]\n",
        " [  56.   68.   80.   92.]\n",
        " [  92.  113.  134.  155.]\n",
        " [ 128.  158.  188.  218.]]\n",
        "[ 20.  23.  26.  29.]\n",
        "------------\n",
        "[ 20.  23.  26.  29.]\n"
       ]
      }
     ],
     "prompt_number": 51
    },
    {
     "cell_type": "code",
     "collapsed": false,
     "input": [
      "cnn = CNnet()\n",
      "%timeit cnn.train()"
     ],
     "language": "python",
     "metadata": {},
     "outputs": [
      {
       "output_type": "stream",
       "stream": "stdout",
       "text": [
        "1 loops, best of 3: 672 ms per loop\n"
       ]
      }
     ],
     "prompt_number": 16
    },
    {
     "cell_type": "code",
     "collapsed": false,
     "input": [
      "%timeit cnn.train()"
     ],
     "language": "python",
     "metadata": {},
     "outputs": [
      {
       "output_type": "stream",
       "stream": "stdout",
       "text": [
        "1 loops, best of 3: 3.72 s per loop\n"
       ]
      }
     ],
     "prompt_number": 60
    },
    {
     "cell_type": "code",
     "collapsed": false,
     "input": [],
     "language": "python",
     "metadata": {},
     "outputs": []
    }
   ],
   "metadata": {}
  }
 ]
}