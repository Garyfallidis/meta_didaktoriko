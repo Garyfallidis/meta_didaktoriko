{
 "metadata": {
  "name": "Quickbundles example"
 },
 "nbformat": 3,
 "nbformat_minor": 0,
 "worksheets": [
  {
   "cells": [
    {
     "cell_type": "heading",
     "level": 1,
     "metadata": {},
     "source": [
      "Tractography Clustering with QuickBundles"
     ]
    },
    {
     "cell_type": "raw",
     "metadata": {},
     "source": [
      "This example explains how we can use QuickBundles (Garyfallidis et al., 2012 Frontiers in Brain Imaging Methods)\n",
      "to simplify/cluster streamlines.\n",
      "\n",
      "First import the necessary modules."
     ]
    },
    {
     "cell_type": "code",
     "collapsed": false,
     "input": [
      "import numpy as np\n",
      "from nibabel import trackvis as tv\n",
      "from dipy.tracking import metrics as tm\n",
      "from dipy.segment.quickbundles import QuickBundles\n",
      "from dipy.io.pickles import save_pickle\n",
      "from dipy.data import get_data\n",
      "from dipy.viz import fvtk"
     ],
     "language": "python",
     "metadata": {},
     "outputs": [],
     "prompt_number": 1
    },
    {
     "cell_type": "raw",
     "metadata": {},
     "source": [
      "Read the streamlines"
     ]
    },
    {
     "cell_type": "code",
     "collapsed": false,
     "input": [
      "dname = '/home/eg309/Documents/meta_didaktoriko/CREATE_clustering_2013/'\n",
      "fname = dname + 'tensor_streamlines.trk'\n",
      "\n",
      "streams, hdr = tv.read(fname)\n",
      "\n",
      "streamlines = [i[0] for i in streams]"
     ],
     "language": "python",
     "metadata": {},
     "outputs": [],
     "prompt_number": 2
    },
    {
     "cell_type": "code",
     "collapsed": false,
     "input": [
      "fname"
     ],
     "language": "python",
     "metadata": {},
     "outputs": [
      {
       "output_type": "pyout",
       "prompt_number": 4,
       "text": [
        "'/home/eg309/Documents/meta_didaktoriko/CREATE_clustering_2013/tensor_streamlines.trk'"
       ]
      }
     ],
     "prompt_number": 4
    },
    {
     "cell_type": "code",
     "collapsed": false,
     "input": [
      "len(streamlines)"
     ],
     "language": "python",
     "metadata": {},
     "outputs": [
      {
       "output_type": "pyout",
       "prompt_number": 5,
       "text": [
        "1185"
       ]
      }
     ],
     "prompt_number": 5
    },
    {
     "cell_type": "code",
     "collapsed": false,
     "input": [
      "from dipy.tracking.metrics import length\n",
      "lengths = [length(t) for t in streamlines]"
     ],
     "language": "python",
     "metadata": {},
     "outputs": [],
     "prompt_number": 6
    },
    {
     "cell_type": "code",
     "collapsed": false,
     "input": [
      "hist(lengths)"
     ],
     "language": "python",
     "metadata": {},
     "outputs": [],
     "prompt_number": 7
    },
    {
     "cell_type": "code",
     "collapsed": false,
     "input": [
      "streamlines = [t for t in streamlines if length(t) > 50]"
     ],
     "language": "python",
     "metadata": {},
     "outputs": [],
     "prompt_number": 8
    },
    {
     "cell_type": "raw",
     "metadata": {},
     "source": [
      "Create a QuickBundles object"
     ]
    },
    {
     "cell_type": "code",
     "collapsed": false,
     "input": [
      "qb = QuickBundles(streamlines, dist_thr=20., pts=18)"
     ],
     "language": "python",
     "metadata": {},
     "outputs": [],
     "prompt_number": 9
    },
    {
     "cell_type": "code",
     "collapsed": false,
     "input": [
      "r = fvtk.ren()\n",
      "fvtk.add(r, fvtk.line(streamlines, fvtk.white, opacity=1, linewidth=3))\n",
      "#fvtk.record(r, n_frames=1, out_path='initial.png', size=(600, 600))\n",
      "fvtk.show(r)\n",
      "\n",
      "centroids = qb.centroids\n",
      "colormap = np.random.rand(len(centroids), 3)\n",
      "\n",
      "fvtk.clear(r)\n",
      "fvtk.add(r, fvtk.line(centroids, colormap, opacity=1., linewidth=5))\n",
      "#fvtk.record(r, n_frames=1, out_path='centroids.png', size=(600, 600))\n",
      "fvtk.show(r)\n",
      "\n",
      "colormap_full = np.ones((len(streamlines), 3))\n",
      "for i, centroid in enumerate(centroids):\n",
      "    inds = qb.label2tracksids(i)\n",
      "    colormap_full[inds] = colormap[i]\n",
      "\n",
      "fvtk.clear(r)\n",
      "fvtk.add(r, fvtk.line(streamlines, colormap_full, opacity=1., linewidth=3))\n",
      "#fvtk.record(r, n_frames=1, out_path='clust.png', size=(600, 600))\n",
      "fvtk.show(r)"
     ],
     "language": "python",
     "metadata": {},
     "outputs": [],
     "prompt_number": 13
    },
    {
     "cell_type": "code",
     "collapsed": false,
     "input": [
      "len(qb.centroids)"
     ],
     "language": "python",
     "metadata": {},
     "outputs": [
      {
       "output_type": "pyout",
       "prompt_number": 11,
       "text": [
        "96"
       ]
      }
     ],
     "prompt_number": 11
    },
    {
     "cell_type": "code",
     "collapsed": false,
     "input": [
      "def show_on_each_time(streamlines, centroids):\n",
      "    r = fvtk.ren()\n",
      "    for i, centroid in enumerate(centroids):    \n",
      "        fvtk.clear(r)\n",
      "        inds = qb.label2tracksids(i)\n",
      "        cluster_streamlines = [streamlines[j] for j in inds]\n",
      "        colormap_cluster = np.ones((len(cluster_streamlines), 3))\n",
      "        colormap_cluster[:] = colormap[i]\n",
      "        fvtk.add(r, fvtk.line(cluster_streamlines, colormap_cluster, opacity=1., linewidth=3))\n",
      "        fvtk.show(r)"
     ],
     "language": "python",
     "metadata": {},
     "outputs": [],
     "prompt_number": 12
    },
    {
     "cell_type": "code",
     "collapsed": false,
     "input": [
      "show_on_each_time(streamlines, centroids)"
     ],
     "language": "python",
     "metadata": {},
     "outputs": [],
     "prompt_number": "*"
    },
    {
     "cell_type": "code",
     "collapsed": false,
     "input": [],
     "language": "python",
     "metadata": {},
     "outputs": []
    }
   ],
   "metadata": {}
  }
 ]
}