{
 "metadata": {
  "name": ""
 },
 "nbformat": 3,
 "nbformat_minor": 0,
 "worksheets": [
  {
   "cells": [
    {
     "cell_type": "heading",
     "level": 1,
     "metadata": {},
     "source": [
      "Numerical processing for imaging in Python"
     ]
    },
    {
     "cell_type": "markdown",
     "metadata": {},
     "source": [
      "Going beyond http://www.dmi.usherb.ca/~larocheh/cours/tutoriel_python.html"
     ]
    },
    {
     "cell_type": "heading",
     "level": 1,
     "metadata": {},
     "source": [
      "Outline"
     ]
    },
    {
     "cell_type": "markdown",
     "metadata": {},
     "source": [
      "* IPython\n",
      "    * basics\n",
      "    * debug\n",
      "    * plot (pylab or pyplot)\n",
      "* numpy \n",
      "     * Indexing\n",
      "     * Fancy indexing\n",
      "     * copy and view\n",
      "     * broadcasting\n",
      "     * strides     \n",
      "* scipy \n",
      "     * ndimage\n",
      "     * optimize (quickly)\n",
      "* cython \n",
      "     * example"
     ]
    },
    {
     "cell_type": "heading",
     "level": 1,
     "metadata": {},
     "source": [
      "IPython"
     ]
    },
    {
     "cell_type": "markdown",
     "metadata": {},
     "source": [
      "IPython has two modes the console and the notebook. "
     ]
    },
    {
     "cell_type": "heading",
     "level": 2,
     "metadata": {},
     "source": [
      "Notebook"
     ]
    },
    {
     "cell_type": "raw",
     "metadata": {},
     "source": [
      "The IPython Notebook is a web-based interactive computational environment where you can combine code execution, text, mathematics, plots and rich media into a single document."
     ]
    },
    {
     "cell_type": "markdown",
     "metadata": {},
     "source": [
      "* The notebook consists of individual cells\n",
      "* Each cell may contain code or text (amongst other options)\n",
      "* Text format can be [markdown](http://daringfireball.net/projects/markdown), HTML or LaTeX\n",
      "* Code cells are run using:\n",
      "  * **shift + enter** will move to next cell\n",
      "  * **ctrl + enter** will stay in the current cell\n",
      "* Markdown cells can be modified by double-clicking on them\n",
      "\n",
      "Using math mode (anything between two `$`s or two `$$`s) is interpreted as $LaTeX$ math:\n",
      "\n",
      "$$ D_{KL}(P||Q) = \\sum\\limits_{i}ln (\\frac{P(i)}{Q(i)}) P(i)$$\n",
      "\n",
      "Most important feature is that you can execute Python code in the browser."
     ]
    },
    {
     "cell_type": "code",
     "collapsed": false,
     "input": [
      "# numpy's linspace and pi\n",
      "x = np.linspace(0, 3*pi, 500)\n",
      "\n",
      "# matplotlib's plot and title\n",
      "plot(x, sin(x**2))\n",
      "title('A simple wave');"
     ],
     "language": "python",
     "metadata": {},
     "outputs": []
    },
    {
     "cell_type": "markdown",
     "metadata": {},
     "source": [
      "In order to execute this IPython notebook you need to go to the projects folder which includes the *.ipynb files and write in the command line:\n",
      "\n",
      "    >> ipython notebook --pylab=inline\n",
      "\n",
      "* Files saved as JSON with the .ipynb extension\n",
      "* Save to HTML or print to PDF\n",
      "* You can save the notebook as *.ipynb as *.py file with the markdown as comments\n",
      "* *.py file can also be imported\n",
      "* There is also the online [nbviewer](http://nbviewer.ipython.org/) which can render a static version of a publicly available notebook"
     ]
    },
    {
     "cell_type": "heading",
     "level": 2,
     "metadata": {},
     "source": [
      "Console mode"
     ]
    },
    {
     "cell_type": "markdown",
     "metadata": {},
     "source": [
      "The standard way to use ipython is:\n",
      "\n",
      "    >> ipython\n",
      "       run script.py\n",
      "\n",
      "Or you can run the script directly using:\n",
      "\n",
      "    >> ipython -i script.py\n",
      "\n",
      "And with pylab preloaded:\n",
      "\n",
      "    >> ipython --pylab -i script.py\n"
     ]
    },
    {
     "cell_type": "heading",
     "level": 2,
     "metadata": {},
     "source": [
      "Debugging mode"
     ]
    },
    {
     "cell_type": "markdown",
     "metadata": {},
     "source": [
      "Quick debugging is available with a division by zero:\n",
      "\n",
      "    >> ipython --pylab --pdb -i script.py\n",
      "\n",
      "Example!\n",
      "\n",
      "Step by step debugging (with breakpoints):\n",
      "     \n",
      "       run -d script.py\n",
      "       break script.py:11\n",
      "       break other_script:4\n",
      "\n",
      "Press 'c' to start the script until the break point and then 'n' to go to next line.\n",
      "\n",
      "Because this type of debugging can be tiresome there are other IDEs like: \n",
      "[Spyder](https://code.google.com/p/spyderlib/) or Eclipse which support interactive debugging.\n"
     ]
    },
    {
     "cell_type": "heading",
     "level": 2,
     "metadata": {},
     "source": [
      "Line profiler and Memory profiler"
     ]
    },
    {
     "cell_type": "markdown",
     "metadata": {},
     "source": [
      "The [Line profiler](https://pypi.python.org/pypi/line_profiler/) can be used to see execution time for each line of the code.\n",
      "\n",
      "A simple decorator will do the job:\n",
      "\n",
      "    @profile\n",
      "    def foo():\n",
      "        for i in range(10):\n",
      "            print(i)\n",
      "\n",
      "Execute from the command line:\n",
      "    \n",
      "    kernprof -l -v script.py\n",
      "\n",
      "To install the line profiler you can do:\n",
      "    >> pip install line_profiler"
     ]
    },
    {
     "cell_type": "heading",
     "level": 1,
     "metadata": {},
     "source": [
      "Matplotlib"
     ]
    },
    {
     "cell_type": "markdown",
     "metadata": {},
     "source": [
      "[Matloblib](http://matplotlib.org/) is a library for scientific plotting.\n",
      "\n",
      "From inside scripts is safer to use:\n",
      "\n",
      "    import matplotlib.pyplot as plt\n",
      "    \n",
      "    plt.plot(...)\n",
      "\n",
      "From inside IPython if --pylab is enabled you can just write:\n",
      "\n",
      "    plot(...)\n"
     ]
    },
    {
     "cell_type": "heading",
     "level": 1,
     "metadata": {},
     "source": [
      "Advanced Numpy"
     ]
    },
    {
     "cell_type": "markdown",
     "metadata": {},
     "source": [
      "[Numpy](http://www.numpy.org) is a library for manipulation of N-dimensional arrays.\n",
      "\n",
      "\n",
      "A convention of numpy import exists:"
     ]
    },
    {
     "cell_type": "code",
     "collapsed": false,
     "input": [
      "import numpy as np"
     ],
     "language": "python",
     "metadata": {},
     "outputs": []
    },
    {
     "cell_type": "heading",
     "level": 2,
     "metadata": {},
     "source": [
      "Tiling arrays using with np.tile"
     ]
    },
    {
     "cell_type": "code",
     "collapsed": false,
     "input": [
      "A = np.array([[4, 3], [2, 1]])\n",
      "A"
     ],
     "language": "python",
     "metadata": {},
     "outputs": []
    },
    {
     "cell_type": "code",
     "collapsed": false,
     "input": [
      "np.tile(A, (5, 3))"
     ],
     "language": "python",
     "metadata": {},
     "outputs": []
    },
    {
     "cell_type": "code",
     "collapsed": false,
     "input": [
      "imshow(np.tile(A, (15, 20)), interpolation='nearest')"
     ],
     "language": "python",
     "metadata": {},
     "outputs": []
    },
    {
     "cell_type": "raw",
     "metadata": {},
     "source": [
      "3D version"
     ]
    },
    {
     "cell_type": "code",
     "collapsed": false,
     "input": [
      "A = np.ones((5, 5, 5))\n",
      "B = np.tile(A, (50, 50, 50))"
     ],
     "language": "python",
     "metadata": {},
     "outputs": []
    },
    {
     "cell_type": "code",
     "collapsed": false,
     "input": [
      "B.shape"
     ],
     "language": "python",
     "metadata": {},
     "outputs": []
    },
    {
     "cell_type": "heading",
     "level": 2,
     "metadata": {},
     "source": [
      "Indexing numpy arrays"
     ]
    },
    {
     "cell_type": "code",
     "collapsed": false,
     "input": [
      "a = np.tile(np.arange(0, 60, 10), (6, 1)).T + np.array([0, 1, 2, 3, 4, 5])\n",
      "a"
     ],
     "language": "python",
     "metadata": {},
     "outputs": []
    },
    {
     "cell_type": "code",
     "collapsed": false,
     "input": [
      "from IPython.display import Image\n",
      "Image(filename='images/numpy_indexing.png', retina=True)"
     ],
     "language": "python",
     "metadata": {},
     "outputs": []
    },
    {
     "cell_type": "heading",
     "level": 2,
     "metadata": {},
     "source": [
      "Fancy indexing "
     ]
    },
    {
     "cell_type": "raw",
     "metadata": {},
     "source": [
      "Numpy arrays can be indexed with slices, but also with boolean or integer arrays (masks). This method is called fancy indexing. It creates copies not views."
     ]
    },
    {
     "cell_type": "heading",
     "level": 3,
     "metadata": {},
     "source": [
      "Indexing using boolean masks"
     ]
    },
    {
     "cell_type": "code",
     "collapsed": false,
     "input": [
      "np.random.seed(3)\n",
      "a = np.random.random_integers(0, 20, 15)\n",
      "a"
     ],
     "language": "python",
     "metadata": {},
     "outputs": []
    },
    {
     "cell_type": "code",
     "collapsed": false,
     "input": [
      "mask = (a % 3 == 0)\n",
      "mask"
     ],
     "language": "python",
     "metadata": {},
     "outputs": []
    },
    {
     "cell_type": "code",
     "collapsed": false,
     "input": [
      "extract_from_a = a[mask]\n",
      "extract_from_a"
     ],
     "language": "python",
     "metadata": {},
     "outputs": []
    },
    {
     "cell_type": "raw",
     "metadata": {},
     "source": [
      "Indexing with a mask can be a very useful to assign a new values to a sub-array:"
     ]
    },
    {
     "cell_type": "code",
     "collapsed": false,
     "input": [
      "a[a % 3 == 0] = -1\n",
      "a"
     ],
     "language": "python",
     "metadata": {},
     "outputs": []
    },
    {
     "cell_type": "heading",
     "level": 3,
     "metadata": {},
     "source": [
      "Indexing with an array of integers"
     ]
    },
    {
     "cell_type": "code",
     "collapsed": false,
     "input": [
      "a = np.tile(np.arange(0, 60, 10), (6, 1)).T + np.array([0, 1, 2, 3, 4, 5])\n",
      "a"
     ],
     "language": "python",
     "metadata": {},
     "outputs": []
    },
    {
     "cell_type": "code",
     "collapsed": false,
     "input": [
      "from IPython.display import Image\n",
      "Image(filename='images/numpy_fancy_indexing.png', retina=True)"
     ],
     "language": "python",
     "metadata": {},
     "outputs": []
    },
    {
     "cell_type": "code",
     "collapsed": false,
     "input": [
      "a"
     ],
     "language": "python",
     "metadata": {},
     "outputs": []
    },
    {
     "cell_type": "code",
     "collapsed": false,
     "input": [
      "a[(0, 1, 2, 3, 4), (1, 2, 3, 4, 5)]"
     ],
     "language": "python",
     "metadata": {},
     "outputs": []
    },
    {
     "cell_type": "code",
     "collapsed": false,
     "input": [
      "mask = array([1, 0, 1, 0, 0, 1], dtype=bool)\n",
      "a[mask, 2]"
     ],
     "language": "python",
     "metadata": {},
     "outputs": []
    },
    {
     "cell_type": "heading",
     "level": 3,
     "metadata": {},
     "source": [
      "Direct multi-dimensional index operations with np.indices"
     ]
    },
    {
     "cell_type": "raw",
     "metadata": {},
     "source": [
      "Lets assume that we want to put a small block of ones in the upper left corner of array A which is full of zeros."
     ]
    },
    {
     "cell_type": "code",
     "collapsed": false,
     "input": [
      "A = np.zeros((50, 50))"
     ],
     "language": "python",
     "metadata": {},
     "outputs": []
    },
    {
     "cell_type": "code",
     "collapsed": true,
     "input": [
      "grid = np.indices((10, 10))\n",
      "grid"
     ],
     "language": "python",
     "metadata": {},
     "outputs": []
    },
    {
     "cell_type": "raw",
     "metadata": {},
     "source": [
      "Unexpectedly if you do A[grid] = 1 is not the correct operation. What you need to do is:"
     ]
    },
    {
     "cell_type": "code",
     "collapsed": false,
     "input": [
      "rows, cols = grid\n",
      "print(rows.shape)\n",
      "print(cols.shape)"
     ],
     "language": "python",
     "metadata": {},
     "outputs": []
    },
    {
     "cell_type": "code",
     "collapsed": false,
     "input": [
      "A[rows, cols] = 1\n",
      "imshow(A)"
     ],
     "language": "python",
     "metadata": {},
     "outputs": []
    },
    {
     "cell_type": "raw",
     "metadata": {},
     "source": [
      "Let's now move the block to the center of the image."
     ]
    },
    {
     "cell_type": "code",
     "collapsed": false,
     "input": [
      "A[rows + 20, cols + 20] = 2\n",
      "imshow(A)"
     ],
     "language": "python",
     "metadata": {},
     "outputs": []
    },
    {
     "cell_type": "raw",
     "metadata": {},
     "source": [
      "3D version"
     ]
    },
    {
     "cell_type": "code",
     "collapsed": false,
     "input": [
      "A = np.zeros((50, 50, 50))\n",
      "rows, cols, depths = np.indices((10, 10, 10))\n",
      "A[rows + 20, cols + 20, depths + 20] =  2\n",
      "imshow(A[:, :, 25])"
     ],
     "language": "python",
     "metadata": {},
     "outputs": []
    },
    {
     "cell_type": "heading",
     "level": 2,
     "metadata": {},
     "source": [
      "Take"
     ]
    },
    {
     "cell_type": "raw",
     "metadata": {},
     "source": [
      "Take can replace fancy indexing for increased efficiency. "
     ]
    },
    {
     "cell_type": "code",
     "collapsed": false,
     "input": [
      "a = np.array([4, 3, 5, 7, 6, 8])\n",
      "indices = [0, 1, 4]\n",
      "np.take(a, indices)"
     ],
     "language": "python",
     "metadata": {},
     "outputs": []
    },
    {
     "cell_type": "code",
     "collapsed": false,
     "input": [
      "A = np.arange(0, 20).reshape(4, 5)\n",
      "A"
     ],
     "language": "python",
     "metadata": {},
     "outputs": []
    },
    {
     "cell_type": "code",
     "collapsed": false,
     "input": [
      "np.take(A, [0, 6, 19])"
     ],
     "language": "python",
     "metadata": {},
     "outputs": []
    },
    {
     "cell_type": "code",
     "collapsed": false,
     "input": [
      "np.take(A, [0, 1, 3], axis=0)"
     ],
     "language": "python",
     "metadata": {},
     "outputs": []
    },
    {
     "cell_type": "code",
     "collapsed": false,
     "input": [
      "np.take(A, [[0, 1, 3], [0, 1, 3]])"
     ],
     "language": "python",
     "metadata": {},
     "outputs": []
    },
    {
     "cell_type": "markdown",
     "metadata": {},
     "source": [
      "If indices is not one dimensional, the output also has these dimensions."
     ]
    },
    {
     "cell_type": "heading",
     "level": 2,
     "metadata": {},
     "source": [
      "Choose is great for LUT"
     ]
    },
    {
     "cell_type": "code",
     "collapsed": false,
     "input": [
      "a = [[1, 0, 1], [0, 1, 0], [1, 0, 1]]\n",
      "a\n",
      "choices = [-10, 10]\n",
      "np.choose(a, choices)"
     ],
     "language": "python",
     "metadata": {},
     "outputs": []
    },
    {
     "cell_type": "code",
     "collapsed": false,
     "input": [
      "A = np.arange(0, 20).reshape(4, 5)\n",
      "A"
     ],
     "language": "python",
     "metadata": {},
     "outputs": []
    },
    {
     "cell_type": "code",
     "collapsed": false,
     "input": [
      "choices = np.random.rand(20)\n",
      "np.set_printoptions(2, suppress=True)\n",
      "np.choose(A, choices)"
     ],
     "language": "python",
     "metadata": {},
     "outputs": []
    },
    {
     "cell_type": "code",
     "collapsed": false,
     "input": [
      "choices"
     ],
     "language": "python",
     "metadata": {},
     "outputs": []
    },
    {
     "cell_type": "heading",
     "level": 2,
     "metadata": {},
     "source": [
      "Where"
     ]
    },
    {
     "cell_type": "raw",
     "metadata": {},
     "source": [
      "np.where is used for searching inside an array with specific conditions"
     ]
    },
    {
     "cell_type": "code",
     "collapsed": false,
     "input": [
      "A = np.random.rand(4, 3, 5)\n",
      "indices = np.where((A > 0.5) & (A < 0.8))\n",
      "len(indices)\n",
      "indices"
     ],
     "language": "python",
     "metadata": {},
     "outputs": []
    },
    {
     "cell_type": "code",
     "collapsed": false,
     "input": [
      "A[indices]"
     ],
     "language": "python",
     "metadata": {},
     "outputs": []
    },
    {
     "cell_type": "raw",
     "metadata": {},
     "source": [
      "But, there is also an extra trick that you can do with np.where. That is to assign values directly for when the condition is True or False."
     ]
    },
    {
     "cell_type": "code",
     "collapsed": false,
     "input": [
      "A2 = np.where((A > 0.5) & (A < 0.8) , 1, 0)\n",
      "A2"
     ],
     "language": "python",
     "metadata": {},
     "outputs": []
    },
    {
     "cell_type": "code",
     "collapsed": false,
     "input": [
      "indices_nz = np.nonzero(A2)\n",
      "print(indices_nz)\n",
      "print(indices)"
     ],
     "language": "python",
     "metadata": {},
     "outputs": []
    },
    {
     "cell_type": "heading",
     "level": 2,
     "metadata": {},
     "source": [
      "Broadcasting"
     ]
    },
    {
     "cell_type": "markdown",
     "metadata": {},
     "source": [
      "A quick reminder:\n",
      "\n",
      "* Basic operations on numpy arrays (addition, etc.) are elementwise\n",
      "* This works on arrays of the same size."
     ]
    },
    {
     "cell_type": "raw",
     "metadata": {},
     "source": [
      "The image below gives an example of broadcasting:"
     ]
    },
    {
     "cell_type": "code",
     "collapsed": false,
     "input": [
      "from IPython.display import Image\n",
      "Image(filename='images/numpy_broadcasting.png', retina=True)"
     ],
     "language": "python",
     "metadata": {},
     "outputs": []
    },
    {
     "cell_type": "raw",
     "metadata": {},
     "source": [
      "Broadcasting is mainly based in the following trick of adding fake dimensions:"
     ]
    },
    {
     "cell_type": "code",
     "collapsed": false,
     "input": [
      "a = np.arange(0, 40, 10)\n",
      "a.shape\n",
      "a"
     ],
     "language": "python",
     "metadata": {},
     "outputs": []
    },
    {
     "cell_type": "code",
     "collapsed": false,
     "input": [
      "a = a[:, np.newaxis]  # adds a new axis -> 2D array\n",
      "a.shape"
     ],
     "language": "python",
     "metadata": {},
     "outputs": []
    },
    {
     "cell_type": "code",
     "collapsed": false,
     "input": [
      "a"
     ],
     "language": "python",
     "metadata": {},
     "outputs": []
    },
    {
     "cell_type": "code",
     "collapsed": false,
     "input": [
      "a + np.array([[0, 1, 2]])"
     ],
     "language": "python",
     "metadata": {},
     "outputs": []
    },
    {
     "cell_type": "raw",
     "metadata": {},
     "source": [
      "Which is the same as writing"
     ]
    },
    {
     "cell_type": "code",
     "collapsed": false,
     "input": [
      "np.array([[0], [10], [20], [30]]) + np.array([[0, 1, 2]])"
     ],
     "language": "python",
     "metadata": {},
     "outputs": []
    },
    {
     "cell_type": "raw",
     "metadata": {},
     "source": [
      "But if we write it with out the extra dimension"
     ]
    },
    {
     "cell_type": "code",
     "collapsed": false,
     "input": [
      "np.array([0, 10, 20, 30]) + np.array([[0, 1, 2]])"
     ],
     "language": "python",
     "metadata": {},
     "outputs": []
    },
    {
     "cell_type": "raw",
     "metadata": {},
     "source": [
      "Let's construct an array of distances (in miles) between cities of Route\n",
      "66: Chicago, Springfield, Saint-Louis, Tulsa, Oklahoma City, Amarillo,\n",
      "Santa Fe, Albuquerque, Flagstaff and Los Angeles."
     ]
    },
    {
     "cell_type": "code",
     "collapsed": false,
     "input": [
      "from IPython.display import Image\n",
      "Image(filename='images/route66.png', retina=True)"
     ],
     "language": "python",
     "metadata": {},
     "outputs": []
    },
    {
     "cell_type": "code",
     "collapsed": false,
     "input": [
      "mileposts = np.array([0, 198, 303, 736, 871, 1175, 1475, 1544,\n",
      "       1913, 2448])\n",
      "distance_array = np.abs(mileposts - mileposts[:, np.newaxis])\n",
      "distance_array"
     ],
     "language": "python",
     "metadata": {},
     "outputs": []
    },
    {
     "cell_type": "raw",
     "metadata": {},
     "source": [
      "A lot of grid-based or network-based problems can also use broadcasting. \n",
      "\n",
      "For instance, if we want to compute the distance from the origin of points on a 10x10 grid, we can do"
     ]
    },
    {
     "cell_type": "code",
     "collapsed": false,
     "input": [
      "x, y = np.arange(5), np.arange(5)[:, np.newaxis]\n",
      "distance = np.sqrt(x ** 2 + y ** 2)\n",
      "distance"
     ],
     "language": "python",
     "metadata": {},
     "outputs": []
    },
    {
     "cell_type": "code",
     "collapsed": false,
     "input": [
      "pcolor(distance)\n",
      "colorbar()"
     ],
     "language": "python",
     "metadata": {},
     "outputs": []
    },
    {
     "cell_type": "raw",
     "metadata": {},
     "source": [
      "Remark : the numpy.ogrid function allows to directly create vectors x and y of the previous example, with two \"significant dimensions\":"
     ]
    },
    {
     "cell_type": "code",
     "collapsed": false,
     "input": [
      "x, y = np.ogrid[0:5, 0:5]\n",
      "x, y"
     ],
     "language": "python",
     "metadata": {},
     "outputs": []
    },
    {
     "cell_type": "code",
     "collapsed": false,
     "input": [
      "x.shape, y.shape"
     ],
     "language": "python",
     "metadata": {},
     "outputs": []
    },
    {
     "cell_type": "code",
     "collapsed": false,
     "input": [
      "distance = np.sqrt(x ** 2 + y ** 2)\n",
      "distance"
     ],
     "language": "python",
     "metadata": {},
     "outputs": []
    },
    {
     "cell_type": "raw",
     "metadata": {},
     "source": [
      "So, np.ogrid is very useful as soon as we have to handle computations on a grid. On the other hand, np.mgrid directly provides matrices full of indices for cases where we can't (or don't want to) benefit from broadcasting."
     ]
    },
    {
     "cell_type": "code",
     "collapsed": false,
     "input": [
      "x, y = np.mgrid[0:5, 0:5]\n",
      "x"
     ],
     "language": "python",
     "metadata": {},
     "outputs": []
    },
    {
     "cell_type": "code",
     "collapsed": false,
     "input": [
      "y"
     ],
     "language": "python",
     "metadata": {},
     "outputs": []
    },
    {
     "cell_type": "code",
     "collapsed": false,
     "input": [
      "distance2 = np.sqrt(x ** 2 + y ** 2)\n",
      "distance2"
     ],
     "language": "python",
     "metadata": {},
     "outputs": []
    },
    {
     "cell_type": "code",
     "collapsed": false,
     "input": [
      "distance == distance2"
     ],
     "language": "python",
     "metadata": {},
     "outputs": []
    },
    {
     "cell_type": "heading",
     "level": 3,
     "metadata": {},
     "source": [
      "So, what is the catch? How does broadcasting really works?"
     ]
    },
    {
     "cell_type": "markdown",
     "metadata": {
      "slideshow": {
       "slide_type": "-"
      }
     },
     "source": [
      "Before broadcasting two arrays, NumPy verifies that all dimensions are suitably matched. \n",
      "\n",
      "**Dimensions match when they are equal, or when is 1 (or None or newaxis)**."
     ]
    },
    {
     "cell_type": "raw",
     "metadata": {},
     "source": [
      "In the latter case, the dimension of the output array is expanded to the larger of the two. \n",
      "\n",
      "For example, consider arrays x and y with shapes (2, 4, 3) and (4, 1) respectively. \n",
      "\n",
      "These arrays are to be combined in a broadcasting operation such as z = x + y. We match their dimensions as follows:\n",
      "\n",
      "x (2, 4, 3)\n",
      "y ( , 4, 1)\n",
      "-----------\n",
      "z (2, 4, 3)\n",
      "\n",
      "Therefore, the dimensions of these arrays are compatible, and yield and output of shape (2, 4, 3)."
     ]
    },
    {
     "cell_type": "code",
     "collapsed": false,
     "input": [
      "x = np.ones((2, 4, 3))\n",
      "y = 2 * np.ones((4, 1))\n",
      "x + y"
     ],
     "language": "python",
     "metadata": {},
     "outputs": []
    },
    {
     "cell_type": "code",
     "collapsed": false,
     "input": [
      "x + y[np.newaxis, :, :]"
     ],
     "language": "python",
     "metadata": {},
     "outputs": []
    },
    {
     "cell_type": "code",
     "collapsed": false,
     "input": [
      "A = np.ones((2, 2, 2, 5))\n",
      "B = np.zeros((2, 5))\n",
      "(A + B).shape"
     ],
     "language": "python",
     "metadata": {},
     "outputs": []
    },
    {
     "cell_type": "code",
     "collapsed": false,
     "input": [
      "B = np.zeros((2, 1))\n",
      "(A + B).shape"
     ],
     "language": "python",
     "metadata": {},
     "outputs": []
    },
    {
     "cell_type": "code",
     "collapsed": false,
     "input": [
      "x = np.ones((5, 1))\n",
      "y = 2 * np.ones((1, 5))\n",
      "x + y"
     ],
     "language": "python",
     "metadata": {},
     "outputs": []
    },
    {
     "cell_type": "code",
     "collapsed": false,
     "input": [
      "x = np.ones((4, 1))\n",
      "y = np.ones((1, 5))\n",
      "x + y"
     ],
     "language": "python",
     "metadata": {},
     "outputs": []
    },
    {
     "cell_type": "code",
     "collapsed": false,
     "input": [
      "x = np.ones((4, 1))\n",
      "y = np.ones((2, 5))\n",
      "x + y"
     ],
     "language": "python",
     "metadata": {},
     "outputs": []
    },
    {
     "cell_type": "markdown",
     "metadata": {},
     "source": [
      "You can learn more about numpy and broadcasting in the following paper http://arxiv.org/pdf/1102.1523v1.pdf "
     ]
    },
    {
     "cell_type": "code",
     "collapsed": false,
     "input": [],
     "language": "python",
     "metadata": {},
     "outputs": []
    },
    {
     "cell_type": "heading",
     "level": 2,
     "metadata": {},
     "source": [
      "Ndindex "
     ]
    },
    {
     "cell_type": "raw",
     "metadata": {},
     "source": [
      "Iterate through all indices with only one for loop."
     ]
    },
    {
     "cell_type": "code",
     "collapsed": false,
     "input": [
      "A = np.random.rand(3, 2, 4)\n",
      "\n",
      "for index in np.ndindex(*A.shape):\n",
      "    print('index (%d, %d, %d) value %.2f' % (index[0], index[1], index[2], A[index]))\n",
      "    "
     ],
     "language": "python",
     "metadata": {},
     "outputs": []
    },
    {
     "cell_type": "heading",
     "level": 3,
     "metadata": {},
     "source": [
      "Speed tests"
     ]
    },
    {
     "cell_type": "raw",
     "metadata": {},
     "source": [
      "Let's say we wanted to create a 4D array called vol which would give \n",
      "vol[1, 2, 3] = [1, 2, 3] or vol[5, 6, 2] = [5, 6, 2].\n",
      "\n",
      "Let's try to do this first using ndindex and then with broadcasting."
     ]
    },
    {
     "cell_type": "code",
     "collapsed": false,
     "input": [
      "def test_ndindex_speed():\n",
      "    shape=(50, 50, 50, 3)    \n",
      "    vol = np.zeros(shape)\n",
      "    for ijk_t in np.ndindex(shape[:3]):\n",
      "        i, j, k = ijk_t\n",
      "        vol[i,j,k,0]=i\n",
      "        vol[i,j,k,1]=j\n",
      "        vol[i,j,k,2]=k\n",
      "    return vol"
     ],
     "language": "python",
     "metadata": {},
     "outputs": []
    },
    {
     "cell_type": "code",
     "collapsed": false,
     "input": [
      "%timeit -n3 vol = test_ndindex_speed()"
     ],
     "language": "python",
     "metadata": {},
     "outputs": []
    },
    {
     "cell_type": "code",
     "collapsed": false,
     "input": [
      "def test_broadcasting_speed():\n",
      "    vol = np.zeros((50, 50, 50, 3))\n",
      "    vol[...,0] = np.arange(50)[:, np.newaxis, np.newaxis]\n",
      "    vol[...,1] = np.arange(50)[np.newaxis,:, np.newaxis]\n",
      "    vol[...,2] = np.arange(50)[np.newaxis, np.newaxis,:]\n",
      "    return vol\n",
      "    "
     ],
     "language": "python",
     "metadata": {},
     "outputs": []
    },
    {
     "cell_type": "code",
     "collapsed": false,
     "input": [
      "%timeit -n3  vol2 = test_broadcasting_speed()"
     ],
     "language": "python",
     "metadata": {},
     "outputs": []
    },
    {
     "cell_type": "code",
     "collapsed": false,
     "input": [
      "vol = test_ndindex_speed()\n",
      "vol2 = test_broadcasting_speed()\n",
      "\n",
      "print(vol[15, 20, 30])\n",
      "print(vol2[15, 20, 30])\n",
      "np.all(vol == vol2)"
     ],
     "language": "python",
     "metadata": {},
     "outputs": []
    },
    {
     "cell_type": "markdown",
     "metadata": {},
     "source": [
      "In [Dipy](http://dipy.org) we have implemented a faster ndindex method:\n",
      "\n",
      "    from dipy.core.ndindex import ndindex\n",
      "    for index in ndinex(A.shape):\n",
      "        print(index)\n"
     ]
    },
    {
     "cell_type": "raw",
     "metadata": {},
     "source": [
      "Another simple example between using for loops or direct assignment to copy a small array to a big array."
     ]
    },
    {
     "cell_type": "code",
     "collapsed": false,
     "input": [
      "def test_for():\n",
      "    shape = ((50, 50, 50, 3))\n",
      "    vol = np.zeros(shape)\n",
      "    values = np.array([1., 2., 3.])\n",
      "    for i in range(shape[0]):\n",
      "        for j in range(shape[1]):\n",
      "            for k in range(shape[2]):\n",
      "                vol[i, j, k] = values\n",
      "    return vol\n",
      "                \n",
      "def test_direct():\n",
      "    shape = ((50, 50, 50, 3))\n",
      "    vol = np.zeros(shape)\n",
      "    values = np.array([1., 2., 3.])\n",
      "    vol[:] = values\n",
      "    \n",
      "    return vol"
     ],
     "language": "python",
     "metadata": {},
     "outputs": []
    },
    {
     "cell_type": "code",
     "collapsed": false,
     "input": [
      "%timeit -n10 vol = test_for()"
     ],
     "language": "python",
     "metadata": {},
     "outputs": []
    },
    {
     "cell_type": "code",
     "collapsed": false,
     "input": [
      "%timeit -n10 vol2 = test_direct()"
     ],
     "language": "python",
     "metadata": {},
     "outputs": []
    },
    {
     "cell_type": "code",
     "collapsed": false,
     "input": [
      "vol = test_for()\n",
      "vol2 = test_direct()\n",
      "np.all(vol == vol2)"
     ],
     "language": "python",
     "metadata": {},
     "outputs": []
    },
    {
     "cell_type": "code",
     "collapsed": false,
     "input": [
      "def test_direct_empty():\n",
      "    shape = ((50, 50, 50, 3))\n",
      "    vol = np.empty(shape)\n",
      "    values = np.array([1., 2., 3.])\n",
      "    vol[:] = values\n",
      "    \n",
      "    return vol\n",
      "\n",
      "%timeit -n10 vol2 = test_direct_empty()"
     ],
     "language": "python",
     "metadata": {},
     "outputs": []
    },
    {
     "cell_type": "code",
     "collapsed": false,
     "input": [],
     "language": "python",
     "metadata": {},
     "outputs": []
    },
    {
     "cell_type": "heading",
     "level": 2,
     "metadata": {},
     "source": [
      "Memory usage in Numpy using strides"
     ]
    },
    {
     "cell_type": "code",
     "collapsed": false,
     "input": [
      "A = np.array([[1, 2, 3, 4], [5, 6, 7, 8], [8, 9, 10, 11]])\n",
      "A"
     ],
     "language": "python",
     "metadata": {},
     "outputs": []
    },
    {
     "cell_type": "code",
     "collapsed": false,
     "input": [
      "A.flags"
     ],
     "language": "python",
     "metadata": {},
     "outputs": []
    },
    {
     "cell_type": "code",
     "collapsed": false,
     "input": [
      "A.T"
     ],
     "language": "python",
     "metadata": {},
     "outputs": []
    },
    {
     "cell_type": "code",
     "collapsed": false,
     "input": [
      "A.T.flags"
     ],
     "language": "python",
     "metadata": {},
     "outputs": []
    },
    {
     "cell_type": "code",
     "collapsed": false,
     "input": [
      "A.data"
     ],
     "language": "python",
     "metadata": {},
     "outputs": []
    },
    {
     "cell_type": "code",
     "collapsed": false,
     "input": [
      "A.dtype"
     ],
     "language": "python",
     "metadata": {},
     "outputs": []
    },
    {
     "cell_type": "code",
     "collapsed": false,
     "input": [
      "A.size"
     ],
     "language": "python",
     "metadata": {},
     "outputs": []
    },
    {
     "cell_type": "code",
     "collapsed": false,
     "input": [
      "A.itemsize"
     ],
     "language": "python",
     "metadata": {},
     "outputs": []
    },
    {
     "cell_type": "code",
     "collapsed": false,
     "input": [
      "A.nbytes == 12 * 8"
     ],
     "language": "python",
     "metadata": {},
     "outputs": []
    },
    {
     "cell_type": "code",
     "collapsed": false,
     "input": [
      "A.strides"
     ],
     "language": "python",
     "metadata": {},
     "outputs": []
    },
    {
     "cell_type": "raw",
     "metadata": {},
     "source": [
      "The strides is a mechanism that Numpy uses to treat arrays as multi-dimensional views when actually the data are always stored in memory as 1D arrays.\n",
      "\n",
      "The strides variable is a tuple showing how many bytes we need to step in each dimension when traversing a numpy array.\n",
      "\n",
      "The strides mechanism can be explained simply by the following equation:"
     ]
    },
    {
     "cell_type": "code",
     "collapsed": false,
     "input": [
      "offset = np.sum(A.strides * np.array((0, 1)))\n",
      "offset / A.itemsize"
     ],
     "language": "python",
     "metadata": {},
     "outputs": []
    },
    {
     "cell_type": "code",
     "collapsed": false,
     "input": [
      "A[0, 1] == A.ravel()[1]"
     ],
     "language": "python",
     "metadata": {},
     "outputs": []
    },
    {
     "cell_type": "code",
     "collapsed": false,
     "input": [
      "A"
     ],
     "language": "python",
     "metadata": {},
     "outputs": []
    },
    {
     "cell_type": "code",
     "collapsed": false,
     "input": [
      "A[0, 1]"
     ],
     "language": "python",
     "metadata": {},
     "outputs": []
    },
    {
     "cell_type": "code",
     "collapsed": false,
     "input": [
      "A.ravel()"
     ],
     "language": "python",
     "metadata": {},
     "outputs": []
    },
    {
     "cell_type": "heading",
     "level": 1,
     "metadata": {},
     "source": [
      "Scipy"
     ]
    },
    {
     "cell_type": "markdown",
     "metadata": {},
     "source": [
      "The scipy package contains various toolboxes dedicated to common issues in scientific computing. It is built to work hand in hand with Numpy.\n",
      "\n",
      "* File input/output: **scipy.io**\n",
      "* Special functions: **scipy.special**\n",
      "* Linear algebra operations: **scipy.linalg**\n",
      "* Fast Fourier transforms: **scipy.fftpack**\n",
      "* Optimization and fit: **scipy.optimize**\n",
      "* Statistics and random numbers: **scipy.stats**\n",
      "* Interpolation: **scipy.interpolate**\n",
      "* Numerical integration: **scipy.integrate**\n",
      "* Signal processing: **scipy.signal**\n",
      "* Image processing: **scipy.ndimage**\n"
     ]
    },
    {
     "cell_type": "heading",
     "level": 2,
     "metadata": {},
     "source": [
      "Optimize"
     ]
    },
    {
     "cell_type": "raw",
     "metadata": {},
     "source": [
      "The scipy.optimize module provides useful algorithms for function minimization (scalar or multi-dimensional), curve fitting and root finding."
     ]
    },
    {
     "cell_type": "code",
     "collapsed": false,
     "input": [
      "from scipy import optimize"
     ],
     "language": "python",
     "metadata": {},
     "outputs": []
    },
    {
     "cell_type": "code",
     "collapsed": false,
     "input": [
      "def f(x): # rosenbrock function\n",
      "    return .5*(1 - x[0])**2 + (x[1] - x[0]**2)**2"
     ],
     "language": "python",
     "metadata": {},
     "outputs": []
    },
    {
     "cell_type": "raw",
     "metadata": {},
     "source": [
      "The global minimum is inside a long, narrow, parabolic shaped flat valley. To find the valley is trivial. To converge to the global minimum, however, is difficult. The global minimum is at (x, y) = (1, 1) where f(x,y) = 0. \n",
      "\n",
      "Note that in the definition of f I use x to hold both x and y in a vector form. It will help with the optimization later.\n",
      "\n",
      "Let's visualize rosenbrock's function."
     ]
    },
    {
     "cell_type": "code",
     "collapsed": false,
     "input": [
      "from mpl_toolkits.mplot3d import Axes3D\n",
      "from matplotlib import cm\n",
      "from matplotlib.ticker import LinearLocator, FormatStrFormatter\n",
      "import matplotlib.pyplot as plt\n",
      "\n",
      "fig = plt.figure(figsize=(16, 8))\n",
      "ax = fig.gca(projection='3d')\n",
      "X = np.arange(-5, 5, 0.25)\n",
      "Y = np.arange(-5, 5, 0.25)\n",
      "X, Y = np.meshgrid(X, Y)\n",
      "\n",
      "Z = f([X, Y])\n",
      "\n",
      "indices = np.where(Z==Z.min()) \n",
      "print('Minimum values X: %.1f  Y: %.1f' % (X[indices][0], Y[indices][0]))\n",
      "\n",
      "surf = ax.plot_surface(X, Y, Z, rstride=2, cstride=2, linewidth=0, cmap=cm.coolwarm, antialiased=True)\n",
      "\n",
      "fig.colorbar(surf, shrink=0.7)\n",
      "\n",
      "plt.show()\n"
     ],
     "language": "python",
     "metadata": {},
     "outputs": []
    },
    {
     "cell_type": "heading",
     "level": 3,
     "metadata": {},
     "source": [
      "1D optimization using Brent's method"
     ]
    },
    {
     "cell_type": "code",
     "collapsed": false,
     "input": [
      "xmin = optimize.brent(f)\n",
      "xmin"
     ],
     "language": "python",
     "metadata": {},
     "outputs": []
    },
    {
     "cell_type": "heading",
     "level": 3,
     "metadata": {},
     "source": [
      "Conjugate gradient descent"
     ]
    },
    {
     "cell_type": "code",
     "collapsed": false,
     "input": [
      "optimize.fmin_cg(f, [2, 2])"
     ],
     "language": "python",
     "metadata": {},
     "outputs": []
    },
    {
     "cell_type": "code",
     "collapsed": false,
     "input": [
      "def fprime(x):\n",
      "    return np.array((-2*.5*(1 - x[0]) - 4*x[0]*(x[1] - x[0]**2), 2*(x[1] - x[0]**2)))"
     ],
     "language": "python",
     "metadata": {},
     "outputs": []
    },
    {
     "cell_type": "code",
     "collapsed": false,
     "input": [
      "optimize.fmin_cg(f, [2, 2], fprime=fprime)"
     ],
     "language": "python",
     "metadata": {},
     "outputs": []
    },
    {
     "cell_type": "heading",
     "level": 3,
     "metadata": {},
     "source": [
      "Newton and quasi-newton methods"
     ]
    },
    {
     "cell_type": "heading",
     "level": 4,
     "metadata": {},
     "source": [
      "Using the Hessian"
     ]
    },
    {
     "cell_type": "raw",
     "metadata": {},
     "source": [
      "Newton methods use a local quadratic approximation to compute the jump direction. For this purpose, they rely on the 2 first derivatives of the function: the gradient and the Hessian."
     ]
    },
    {
     "cell_type": "code",
     "collapsed": false,
     "input": [
      "optimize.fmin_ncg(f, [2, 2], fprime=fprime)"
     ],
     "language": "python",
     "metadata": {},
     "outputs": []
    },
    {
     "cell_type": "code",
     "collapsed": false,
     "input": [
      "def hessian(x): \n",
      "    return np.array(((1 - 4*x[1] + 12*x[0]**2, -4*x[0]), (-4*x[0], 2)))"
     ],
     "language": "python",
     "metadata": {},
     "outputs": []
    },
    {
     "cell_type": "code",
     "collapsed": false,
     "input": [
      "optimize.fmin_ncg(f, [2, 2], fprime=fprime, fhess=hessian)"
     ],
     "language": "python",
     "metadata": {},
     "outputs": []
    },
    {
     "cell_type": "heading",
     "level": 4,
     "metadata": {},
     "source": [
      "Quasi-newton methods: approximating the Hessian on the fly"
     ]
    },
    {
     "cell_type": "raw",
     "metadata": {},
     "source": [
      "BFGS (Broyden-Fletcher-Goldfarb-Shannon algorithm) refines at each step an approximation of the Hessian."
     ]
    },
    {
     "cell_type": "code",
     "collapsed": false,
     "input": [
      "optimize.fmin_bfgs(f, [2, 2], fprime=fprime)"
     ],
     "language": "python",
     "metadata": {},
     "outputs": []
    },
    {
     "cell_type": "raw",
     "metadata": {},
     "source": [
      "L-BFGS: Limited-memory BFGS Sits between BFGS and conjugate gradient: in very high dimensions (> 250) the Hessian matrix is too costly to compute and invert. L-BFGS keeps a low-rank version. In addition, the scipy version, scipy.optimize.fmin_l_bfgs_b(), includes box bounds."
     ]
    },
    {
     "cell_type": "code",
     "collapsed": false,
     "input": [
      "xopt, fopt, d = optimize.fmin_l_bfgs_b(f, [2, 2], fprime=fprime, bounds=[(-5, 5), (-5, 5)])\n",
      "xopt"
     ],
     "language": "python",
     "metadata": {},
     "outputs": []
    },
    {
     "cell_type": "code",
     "collapsed": false,
     "input": [
      "d['funcalls']"
     ],
     "language": "python",
     "metadata": {},
     "outputs": []
    },
    {
     "cell_type": "code",
     "collapsed": false,
     "input": [
      "d['nit']"
     ],
     "language": "python",
     "metadata": {},
     "outputs": []
    },
    {
     "cell_type": "raw",
     "metadata": {},
     "source": [
      "If you do not specify the gradient to the L-BFGS solver, you need to add approx_grad=1"
     ]
    },
    {
     "cell_type": "code",
     "collapsed": false,
     "input": [
      "xopt, fopt, d = optimize.fmin_l_bfgs_b(f, [2, 2], approx_grad=1)\n",
      "xopt"
     ],
     "language": "python",
     "metadata": {},
     "outputs": []
    },
    {
     "cell_type": "code",
     "collapsed": false,
     "input": [
      "d['funcalls']"
     ],
     "language": "python",
     "metadata": {},
     "outputs": []
    },
    {
     "cell_type": "code",
     "collapsed": false,
     "input": [
      "d['nit']"
     ],
     "language": "python",
     "metadata": {},
     "outputs": []
    },
    {
     "cell_type": "heading",
     "level": 3,
     "metadata": {},
     "source": [
      "Methods without gradients"
     ]
    },
    {
     "cell_type": "heading",
     "level": 4,
     "metadata": {},
     "source": [
      "Powell's algorithm"
     ]
    },
    {
     "cell_type": "code",
     "collapsed": false,
     "input": [
      "optimize.fmin_powell(f, [2, 2])"
     ],
     "language": "python",
     "metadata": {},
     "outputs": []
    },
    {
     "cell_type": "heading",
     "level": 4,
     "metadata": {},
     "source": [
      "Simplex method: the Nelder-Mead"
     ]
    },
    {
     "cell_type": "raw",
     "metadata": {},
     "source": [
      "The Nelder-Mead algorithms is a generalization of dichotomy approaches to high-dimensional spaces. The algorithm works by refining a simplex, the generalization of intervals and triangles to high-dimensional spaces, to bracket the minimum.\n",
      "\n",
      "Strong points: it is robust to noise, as it does not rely on computing gradients. Thus it can work on functions that are not locally smooth such as experimental data points, as long as they display a large-scale bell-shape behavior. However it is slower than gradient-based methods on smooth, non-noisy functions."
     ]
    },
    {
     "cell_type": "code",
     "collapsed": false,
     "input": [
      "optimize.fmin(f, [2, 2])"
     ],
     "language": "python",
     "metadata": {},
     "outputs": []
    },
    {
     "cell_type": "heading",
     "level": 3,
     "metadata": {},
     "source": [
      "Global optimizers"
     ]
    },
    {
     "cell_type": "heading",
     "level": 4,
     "metadata": {},
     "source": [
      "Brute force: a grid search"
     ]
    },
    {
     "cell_type": "code",
     "collapsed": false,
     "input": [
      "optimize.brute(f, ((-1, 2), (-1, 2)))"
     ],
     "language": "python",
     "metadata": {},
     "outputs": []
    },
    {
     "cell_type": "heading",
     "level": 4,
     "metadata": {},
     "source": [
      "Simulated annealing"
     ]
    },
    {
     "cell_type": "raw",
     "metadata": {},
     "source": [
      "Simulated annealing does random jumps around the starting point to explore its vicinity, progressively narrowing the jumps around the minimum points it finds. Its output depends on the random number generator."
     ]
    },
    {
     "cell_type": "code",
     "collapsed": false,
     "input": [
      "optimize.anneal(f, [2, 2])"
     ],
     "language": "python",
     "metadata": {},
     "outputs": []
    },
    {
     "cell_type": "raw",
     "metadata": {},
     "source": [
      "Oops, wrong global minimum. Let's use some bounds."
     ]
    },
    {
     "cell_type": "code",
     "collapsed": false,
     "input": [
      "optimize.anneal(f, [2, 2], lower=-5, upper=5)"
     ],
     "language": "python",
     "metadata": {},
     "outputs": []
    },
    {
     "cell_type": "code",
     "collapsed": false,
     "input": [
      "xopt, fopt, temp, fevals, iters, accept, retval = optimize.anneal(f, [2, 2], full_output=True, lower=-5, upper=5)"
     ],
     "language": "python",
     "metadata": {},
     "outputs": []
    },
    {
     "cell_type": "code",
     "collapsed": false,
     "input": [
      "print(fevals, iters)"
     ],
     "language": "python",
     "metadata": {},
     "outputs": []
    },
    {
     "cell_type": "raw",
     "metadata": {},
     "source": [
      "For functions of continuous parameters as studied here, a strategy based on grid search for rough exploration and running optimizers like the Nelder-Mead or gradient-based methods many times with different starting points should often be preferred to heuristic methods such as simulated annealing."
     ]
    },
    {
     "cell_type": "heading",
     "level": 3,
     "metadata": {},
     "source": [
      "Choosing a method"
     ]
    },
    {
     "cell_type": "markdown",
     "metadata": {},
     "source": [
      "* **Without knowledge of the gradient**\n",
      " \t\n",
      "     * In general, prefer BFGS or L-BFGS, even if you have to approximate numerically gradients\n",
      "\n",
      "     * On well-conditioned problems, Powell and Nelder-Mead (fmin()), both gradient-free methods, work well in high dimension, but they collapse for ill-conditioned problems.\n",
      "\n",
      "\n",
      "* **With knowledge of the gradient**\n",
      " \t\n",
      "    * BFGS or LBFGS. Computational overhead of BFGS is larger than that LBFGS, itself larger than that of conjugate gradient. On the other side, BFGS usually needs less function evaluations than CG. Thus conjugate gradient method is better than BFGS at optimizing computationally cheap functions.\n",
      "\n",
      "* **With the Hessian**\n",
      " \t\n",
      "    * If you can compute the Hessian, prefer the Newton method (fmin_ncg()).\n",
      "\n",
      "* **With very noisy measurements**\n",
      " \t\n",
      "    * Use Nelder-Mead or Powell."
     ]
    },
    {
     "cell_type": "heading",
     "level": 3,
     "metadata": {},
     "source": [
      "Making your optimizer faster"
     ]
    },
    {
     "cell_type": "markdown",
     "metadata": {},
     "source": [
      "* Choose the right method (see above), do compute analytically the gradient and Hessian, if you can.\n",
      "\n",
      "* Use preconditionning when possible.\n",
      "\n",
      "* Choose your initialization points wisely. For instance, if you are running many similar optimizations, warm-restart one with the results of another.\n",
      "\n",
      "* Relax the tolerance if you don\u2019t need precision."
     ]
    },
    {
     "cell_type": "heading",
     "level": 3,
     "metadata": {},
     "source": [
      "Non-linear least-squares"
     ]
    },
    {
     "cell_type": "heading",
     "level": 4,
     "metadata": {},
     "source": [
      "Levenberg-Marquardt algorithm"
     ]
    },
    {
     "cell_type": "markdown",
     "metadata": {},
     "source": [
      "The following full example description is available at this [page](http://docs.scipy.org/doc/scipy/reference/tutorial/optimize.html#least-square-fitting-leastsq)."
     ]
    },
    {
     "cell_type": "code",
     "collapsed": false,
     "input": [
      "# Let's set a range of x-values\n",
      "x = arange(0, 6e-2, 6e-2 / 30)\n",
      "\n",
      "A, k, theta = 10, 1.0 / 3e-2, pi / 6\n",
      "\n",
      "# Suppose it is believed some measured data follow a sinusoidal pattern\n",
      "\n",
      "y_true = A * sin(2 * pi * k * x + theta)\n",
      "y_meas = y_true + 2*random.randn(len(x))"
     ],
     "language": "python",
     "metadata": {},
     "outputs": []
    },
    {
     "cell_type": "code",
     "collapsed": false,
     "input": [
      "#where the parameters A, k and theta are unknown. \n",
      "#the residuals are (p here holds all parameters)\n",
      "def residuals(p, y, x):\n",
      "    A, k, theta = p\n",
      "    err = y - A * sin(2 * pi * k * x + theta)\n",
      "    return err"
     ],
     "language": "python",
     "metadata": {},
     "outputs": []
    },
    {
     "cell_type": "code",
     "collapsed": false,
     "input": [
      "# set some initial values for the parameters\n",
      "p0 = [8, 1 / 2.3e-2, pi / 3]\n",
      "print(array(p0))"
     ],
     "language": "python",
     "metadata": {},
     "outputs": []
    },
    {
     "cell_type": "code",
     "collapsed": false,
     "input": [
      "from scipy.optimize import leastsq\n",
      "plsq = leastsq(residuals, p0, args=(y_meas, x))\n",
      "print(plsq[0])"
     ],
     "language": "python",
     "metadata": {},
     "outputs": []
    },
    {
     "cell_type": "code",
     "collapsed": false,
     "input": [
      "print(array([A, k, theta]))\n"
     ],
     "language": "python",
     "metadata": {},
     "outputs": []
    },
    {
     "cell_type": "code",
     "collapsed": false,
     "input": [
      "# Evaluate some point for plotting\n",
      "def peval(x, p):\n",
      "    A, k, theta = p\n",
      "    return A * sin(2 * pi * k * x + theta)"
     ],
     "language": "python",
     "metadata": {},
     "outputs": []
    },
    {
     "cell_type": "code",
     "collapsed": false,
     "input": [
      "plot(x, peval(x, plsq[0]),'b',x,y_meas,'go',x,y_true,'red')\n",
      "title('Nonlinear Least-squares fitting of noisy data')\n",
      "legend(['Fit', 'Noisy', 'True'])"
     ],
     "language": "python",
     "metadata": {},
     "outputs": []
    },
    {
     "cell_type": "heading",
     "level": 3,
     "metadata": {},
     "source": [
      "Linear least-squares"
     ]
    },
    {
     "cell_type": "markdown",
     "metadata": {},
     "source": [
      "I am sure you all know linear least-squares fitting. Here is just a hint for purformance: Use solve it's faster."
     ]
    },
    {
     "cell_type": "code",
     "collapsed": false,
     "input": [
      "from scipy import linalg\n",
      "A = np.array([[1,2],[3,4]])\n",
      "A"
     ],
     "language": "python",
     "metadata": {},
     "outputs": []
    },
    {
     "cell_type": "code",
     "collapsed": false,
     "input": [
      "b = np.array([[5],[6]])\n",
      "b"
     ],
     "language": "python",
     "metadata": {},
     "outputs": []
    },
    {
     "cell_type": "code",
     "collapsed": false,
     "input": [
      "linalg.inv(A).dot(b) #slow"
     ],
     "language": "python",
     "metadata": {},
     "outputs": []
    },
    {
     "cell_type": "code",
     "collapsed": false,
     "input": [
      "A.dot(linalg.inv(A).dot(b))-b #check"
     ],
     "language": "python",
     "metadata": {},
     "outputs": []
    },
    {
     "cell_type": "code",
     "collapsed": false,
     "input": [
      "linalg.solve(A,b) #fast"
     ],
     "language": "python",
     "metadata": {},
     "outputs": []
    },
    {
     "cell_type": "code",
     "collapsed": false,
     "input": [
      "A.dot(linalg.inv(A).dot(b))-b #check"
     ],
     "language": "python",
     "metadata": {},
     "outputs": []
    },
    {
     "cell_type": "raw",
     "metadata": {},
     "source": [
      "All basic linear algebra functions like SVD, EIG, INV, etc are all under scipy.linalg."
     ]
    },
    {
     "cell_type": "heading",
     "level": 2,
     "metadata": {},
     "source": [
      "Ndimage"
     ]
    },
    {
     "cell_type": "raw",
     "metadata": {},
     "source": [
      "The submodule dedicated to image processing in scipy is called ndimage."
     ]
    },
    {
     "cell_type": "code",
     "collapsed": false,
     "input": [
      "from scipy import ndimage"
     ],
     "language": "python",
     "metadata": {},
     "outputs": []
    },
    {
     "cell_type": "heading",
     "level": 3,
     "metadata": {},
     "source": [
      "Geometrical transformations"
     ]
    },
    {
     "cell_type": "code",
     "collapsed": false,
     "input": [
      "from scipy import misc\n",
      "lena = misc.lena()\n",
      "\n",
      "shifted_lena = ndimage.shift(lena, (50, 50))\n",
      "shifted_lena2 = ndimage.shift(lena, (50, 50), mode='nearest')\n",
      "rotated_lena = ndimage.rotate(lena, 30)\n",
      "cropped_lena = lena[50:-50, 50:-50]\n",
      "zoomed_lena = ndimage.zoom(lena, 2)\n"
     ],
     "language": "python",
     "metadata": {},
     "outputs": []
    },
    {
     "cell_type": "code",
     "collapsed": false,
     "input": [
      "Image(filename='images/lena_transforms.png', retina=True)"
     ],
     "language": "python",
     "metadata": {},
     "outputs": []
    },
    {
     "cell_type": "code",
     "collapsed": false,
     "input": [],
     "language": "python",
     "metadata": {},
     "outputs": []
    },
    {
     "cell_type": "markdown",
     "metadata": {},
     "source": [
      "In Dipy we used **ndimage.affine_transform** function to reslice medical images.\n",
      "\n",
      "In other words change the resolution of the voxels of the images from $2^3$mm to $1^3$mm. "
     ]
    },
    {
     "cell_type": "code",
     "collapsed": false,
     "input": [
      "from dipy.align.reslice import reslice"
     ],
     "language": "python",
     "metadata": {},
     "outputs": []
    },
    {
     "cell_type": "markdown",
     "metadata": {},
     "source": [
      "Also we used the function **map_coordinates** for trilinear interpolation in many many places."
     ]
    },
    {
     "cell_type": "code",
     "collapsed": false,
     "input": [
      "from scipy.ndimage import map_coordinates"
     ],
     "language": "python",
     "metadata": {},
     "outputs": []
    },
    {
     "cell_type": "code",
     "collapsed": false,
     "input": [
      "map_coordinates?"
     ],
     "language": "python",
     "metadata": {},
     "outputs": []
    },
    {
     "cell_type": "heading",
     "level": 3,
     "metadata": {},
     "source": [
      "Image filtering"
     ]
    },
    {
     "cell_type": "code",
     "collapsed": false,
     "input": [
      "noisy_lena = np.copy(lena).astype(np.float)\n",
      "noisy_lena += lena.std()*0.5*np.random.standard_normal(lena.shape)\n",
      "blurred_lena = ndimage.gaussian_filter(noisy_lena, sigma=3)\n",
      "median_lena = ndimage.median_filter(blurred_lena, size=5)\n",
      "\n",
      "from scipy import signal\n",
      "wiener_lena = signal.wiener(blurred_lena, (5,5))"
     ],
     "language": "python",
     "metadata": {},
     "outputs": []
    },
    {
     "cell_type": "code",
     "collapsed": false,
     "input": [
      "Image(filename='images/filtered_lena.png', retina=True)"
     ],
     "language": "python",
     "metadata": {},
     "outputs": []
    },
    {
     "cell_type": "heading",
     "level": 3,
     "metadata": {},
     "source": [
      "Mathematical morphology"
     ]
    },
    {
     "cell_type": "raw",
     "metadata": {},
     "source": [
      "Mathematical morphology is a mathematical theory that stems from set theory. It characterizes and transforms geometrical structures. Binary (black and white) images, in particular, can be transformed using this theory: the sets to be transformed are the sets of neighboring non-zero-valued pixels. The theory was also extended to gray-valued images."
     ]
    },
    {
     "cell_type": "raw",
     "metadata": {},
     "source": [
      "Elementary mathematical-morphology operations use a structuring element in order to modify other geometrical structures.\n",
      "\n",
      "Let us first generate a structuring element"
     ]
    },
    {
     "cell_type": "code",
     "collapsed": false,
     "input": [
      "el = ndimage.generate_binary_structure(2, 1)"
     ],
     "language": "python",
     "metadata": {},
     "outputs": []
    },
    {
     "cell_type": "code",
     "collapsed": false,
     "input": [
      "el.astype(np.int)"
     ],
     "language": "python",
     "metadata": {},
     "outputs": []
    },
    {
     "cell_type": "code",
     "collapsed": false,
     "input": [
      "A = np.zeros((200, 200))"
     ],
     "language": "python",
     "metadata": {},
     "outputs": []
    },
    {
     "cell_type": "code",
     "collapsed": false,
     "input": [
      "A[50:-50, 50:-50] = 1\n",
      "A += 0.25 * np.random.standard_normal(A.shape)\n",
      "mask = A >= 0.5"
     ],
     "language": "python",
     "metadata": {},
     "outputs": []
    },
    {
     "cell_type": "code",
     "collapsed": false,
     "input": [
      "imshow(A)"
     ],
     "language": "python",
     "metadata": {},
     "outputs": []
    },
    {
     "cell_type": "code",
     "collapsed": false,
     "input": [
      "imshow(mask)"
     ],
     "language": "python",
     "metadata": {},
     "outputs": []
    },
    {
     "cell_type": "code",
     "collapsed": false,
     "input": [
      "opened_mask = ndimage.binary_opening(mask, el)\n",
      "imshow(opened_mask)"
     ],
     "language": "python",
     "metadata": {},
     "outputs": []
    },
    {
     "cell_type": "code",
     "collapsed": false,
     "input": [
      "closed_mask = ndimage.binary_closing(opened_mask, el)\n",
      "imshow(closed_mask)"
     ],
     "language": "python",
     "metadata": {},
     "outputs": []
    },
    {
     "cell_type": "raw",
     "metadata": {},
     "source": [
      "What do you think would be a structure element for a 3D image?"
     ]
    },
    {
     "cell_type": "heading",
     "level": 3,
     "metadata": {},
     "source": [
      "Measurements on images"
     ]
    },
    {
     "cell_type": "code",
     "collapsed": false,
     "input": [
      "x, y = np.indices((200, 200))\n",
      "sig = np.sin(2*np.pi*x/50.)*np.sin(2*np.pi*y/50.)*(1+x*y/50.**2)**2\n",
      "mask = sig > 1"
     ],
     "language": "python",
     "metadata": {},
     "outputs": []
    },
    {
     "cell_type": "code",
     "collapsed": false,
     "input": [
      "imshow(sig)"
     ],
     "language": "python",
     "metadata": {},
     "outputs": []
    },
    {
     "cell_type": "code",
     "collapsed": false,
     "input": [
      "imshow(mask)"
     ],
     "language": "python",
     "metadata": {},
     "outputs": []
    },
    {
     "cell_type": "code",
     "collapsed": false,
     "input": [
      "labels, nb = ndimage.label(mask)"
     ],
     "language": "python",
     "metadata": {},
     "outputs": []
    },
    {
     "cell_type": "code",
     "collapsed": false,
     "input": [
      "nb"
     ],
     "language": "python",
     "metadata": {},
     "outputs": []
    },
    {
     "cell_type": "code",
     "collapsed": false,
     "input": [
      "labels"
     ],
     "language": "python",
     "metadata": {},
     "outputs": []
    },
    {
     "cell_type": "code",
     "collapsed": false,
     "input": [
      "imshow(labels)"
     ],
     "language": "python",
     "metadata": {},
     "outputs": []
    },
    {
     "cell_type": "code",
     "collapsed": false,
     "input": [
      "areas = ndimage.sum(mask, labels, xrange(1, labels.max()+1))\n",
      "areas"
     ],
     "language": "python",
     "metadata": {},
     "outputs": []
    },
    {
     "cell_type": "code",
     "collapsed": false,
     "input": [
      "maxima = ndimage.maximum(sig, labels, xrange(1, labels.max()+1))\n",
      "maxima"
     ],
     "language": "python",
     "metadata": {},
     "outputs": []
    },
    {
     "cell_type": "code",
     "collapsed": false,
     "input": [
      "sl = ndimage.find_objects(labels == 32)"
     ],
     "language": "python",
     "metadata": {},
     "outputs": []
    },
    {
     "cell_type": "code",
     "collapsed": false,
     "input": [
      "sl"
     ],
     "language": "python",
     "metadata": {},
     "outputs": []
    },
    {
     "cell_type": "code",
     "collapsed": false,
     "input": [
      "labels2 = labels.copy()\n",
      "labels2.shape\n",
      "labels2.dtype\n"
     ],
     "language": "python",
     "metadata": {},
     "outputs": []
    },
    {
     "cell_type": "code",
     "collapsed": false,
     "input": [
      "labels2[sl[0]] = 0"
     ],
     "language": "python",
     "metadata": {},
     "outputs": []
    },
    {
     "cell_type": "code",
     "collapsed": false,
     "input": [
      "imshow(labels2)"
     ],
     "language": "python",
     "metadata": {},
     "outputs": []
    },
    {
     "cell_type": "heading",
     "level": 1,
     "metadata": {},
     "source": [
      "Cython"
     ]
    },
    {
     "cell_type": "raw",
     "metadata": {},
     "source": [
      "Connects the world of C with the world of Python. "
     ]
    },
    {
     "cell_type": "code",
     "collapsed": false,
     "input": [
      "%load_ext cythonmagic"
     ],
     "language": "python",
     "metadata": {},
     "outputs": []
    },
    {
     "cell_type": "raw",
     "metadata": {},
     "source": [
      "Let's create a distance matrix."
     ]
    },
    {
     "cell_type": "code",
     "collapsed": false,
     "input": [
      "import numpy as np\n",
      "X = np.random.random((100, 3))"
     ],
     "language": "python",
     "metadata": {},
     "outputs": []
    },
    {
     "cell_type": "code",
     "collapsed": false,
     "input": [
      "def pairwise_numpy(X):\n",
      "    M = X.shape[0]\n",
      "    N = X.shape[1]\n",
      "    D = np.empty((M, M), dtype=np.float64)\n",
      "\n",
      "    for i in range(M):\n",
      "        for j in range(M):\n",
      "            d = 0.0\n",
      "            for k in range(N):\n",
      "                tmp = X[i, k] - X[j, k]\n",
      "                d += tmp * tmp\n",
      "            D[i, j] = np.sqrt(d)\n",
      "    return np.asarray(D)"
     ],
     "language": "python",
     "metadata": {},
     "outputs": []
    },
    {
     "cell_type": "code",
     "collapsed": false,
     "input": [
      "def pairwise_numpy_broadcasting(X):\n",
      "    return np.sqrt(((X[:, None, :] - X) ** 2).sum(-1))"
     ],
     "language": "python",
     "metadata": {},
     "outputs": []
    },
    {
     "cell_type": "raw",
     "metadata": {},
     "source": [
      "The Cython language is a superset of the Python language that additionally supports calling C functions and declaring C types on variables and class attributes. This allows the compiler to generate very efficient C code from Cython code. "
     ]
    },
    {
     "cell_type": "code",
     "collapsed": false,
     "input": [
      "%%cython\n",
      "import numpy as np\n",
      "cimport cython\n",
      "from libc.math cimport sqrt\n",
      "\n",
      "@cython.boundscheck(False)\n",
      "@cython.wraparound(False)\n",
      "def pairwise_cython(double[:, ::1] X):\n",
      "    cdef int M = X.shape[0]\n",
      "    cdef int N = X.shape[1]\n",
      "    cdef double tmp, d\n",
      "    cdef double[:, ::1] D = np.empty((M, M), dtype=np.float64)\n",
      "    with nogil:\n",
      "        for i in range(M):\n",
      "            for j in range(M):\n",
      "                d = 0.0\n",
      "                for k in range(N):\n",
      "                    tmp = X[i, k] - X[j, k]\n",
      "                    d += tmp * tmp\n",
      "                D[i, j] = sqrt(d)\n",
      "    return np.asarray(D)"
     ],
     "language": "python",
     "metadata": {},
     "outputs": []
    },
    {
     "cell_type": "code",
     "collapsed": false,
     "input": [
      "%timeit -n3 pairwise_numpy(X)"
     ],
     "language": "python",
     "metadata": {},
     "outputs": []
    },
    {
     "cell_type": "code",
     "collapsed": false,
     "input": [
      "%timeit -n3 pairwise_numpy_broadcasting(X)"
     ],
     "language": "python",
     "metadata": {},
     "outputs": []
    },
    {
     "cell_type": "code",
     "collapsed": false,
     "input": [
      "%timeit -n3 pairwise_cython(X)"
     ],
     "language": "python",
     "metadata": {},
     "outputs": []
    },
    {
     "cell_type": "markdown",
     "metadata": {},
     "source": [
      "By replacing range with prange you can have OpenMP multithreading in your application in no time.\n",
      "\n",
      "http://docs.cython.org/src/userguide/parallelism.html"
     ]
    },
    {
     "cell_type": "heading",
     "level": 1,
     "metadata": {},
     "source": [
      "Reading material"
     ]
    },
    {
     "cell_type": "markdown",
     "metadata": {},
     "source": [
      "A great book [Python for data analysis](http://www.amazon.ca/Python-Data-Analysis-Wrangling-IPython/dp/1449319793) by Wes McKinney "
     ]
    },
    {
     "cell_type": "heading",
     "level": 1,
     "metadata": {},
     "source": [
      "Other related software libraries"
     ]
    },
    {
     "cell_type": "markdown",
     "metadata": {},
     "source": [
      "**Scikits-image**\n",
      "\n",
      "    More advanced image processing\n",
      "\n",
      "**Sympy**\n",
      "\n",
      "    Symbolic calculations (like in Mathematica)\n",
      "\n",
      "**Scikits-learn**\n",
      "\n",
      "    Machine learning\n",
      "    \n",
      "**Pandas**\n",
      "\n",
      "    Provides tabular and other data structures e.g. like Excel but with code.\n",
      "\n",
      "**Theano**\n",
      "\n",
      "    Modeling and deep learning with GPU\n",
      "\n",
      "**Pypy**\n",
      "    \n",
      "    Just-in-time compiler\n",
      "\n",
      "**Python-vtk**\n",
      "\n",
      "    3D/4D visualization and networks using an OpenGL based framework.\n",
      "\n",
      "**Vispy**\n",
      "\n",
      "    Shader programming with OpenGL ES"
     ]
    },
    {
     "cell_type": "heading",
     "level": 1,
     "metadata": {},
     "source": [
      "Thank you"
     ]
    },
    {
     "cell_type": "code",
     "collapsed": false,
     "input": [
      "Image(filename='images/codeeval2015.jpg', retina=True)"
     ],
     "language": "python",
     "metadata": {},
     "outputs": []
    },
    {
     "cell_type": "code",
     "collapsed": false,
     "input": [],
     "language": "python",
     "metadata": {},
     "outputs": []
    }
   ],
   "metadata": {}
  }
 ]
}