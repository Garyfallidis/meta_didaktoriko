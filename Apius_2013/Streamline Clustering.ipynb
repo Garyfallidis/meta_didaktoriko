{
 "metadata": {
  "name": "Streamline Clustering"
 },
 "nbformat": 3,
 "nbformat_minor": 0,
 "worksheets": [
  {
   "cells": [
    {
     "cell_type": "raw",
     "metadata": {},
     "source": [
      "This example explains how we can use QuickBundles (Garyfallidis et al. Front. Neuroscience 2012)\n",
      "to simplify/cluster streamlines.\n",
      "\n",
      "First import the necessary modules."
     ]
    },
    {
     "cell_type": "code",
     "collapsed": false,
     "input": [
      "from dipy.data import get_data\n",
      "import nibabel.trackvis as tv\n",
      "\n",
      "def get_fornix():\n",
      "    fname = get_data('fornix')\n",
      "    streams, hdr = tv.read(fname)\n",
      "    streamlines = [i[0] for i in streams]\n",
      "    return streamlines"
     ],
     "language": "python",
     "metadata": {},
     "outputs": [],
     "prompt_number": 1
    },
    {
     "cell_type": "code",
     "collapsed": false,
     "input": [
      "streamlines = get_fornix()"
     ],
     "language": "python",
     "metadata": {},
     "outputs": [],
     "prompt_number": 2
    },
    {
     "cell_type": "raw",
     "metadata": {},
     "source": [
      "Perform QuickBundles clustering with a 10mm distance threshold after having downsampled the streamlines to have only 12 points."
     ]
    },
    {
     "cell_type": "code",
     "collapsed": false,
     "input": [
      "from dipy.segment.quickbundles import QuickBundles"
     ],
     "language": "python",
     "metadata": {},
     "outputs": [],
     "prompt_number": 3
    },
    {
     "cell_type": "code",
     "collapsed": false,
     "input": [
      "qb = QuickBundles(streamlines, dist_thr=10., pts=18)"
     ],
     "language": "python",
     "metadata": {},
     "outputs": [],
     "prompt_number": 4
    },
    {
     "cell_type": "raw",
     "metadata": {},
     "source": [
      "qb has attributes like `centroids` (cluster representatives), `total_clusters` (total number of clusters) and methods like `partitions` (complete description of all clusters) and `label2tracksids` (provides the indices of the streamlines\n",
      "which belong in a specific cluster).\n",
      "\n",
      "Let's first show the initial dataset."
     ]
    },
    {
     "cell_type": "code",
     "collapsed": false,
     "input": [
      "from dipy.viz import fvtk\n",
      "ren = fvtk.ren()"
     ],
     "language": "python",
     "metadata": {},
     "outputs": [],
     "prompt_number": 5
    },
    {
     "cell_type": "code",
     "collapsed": false,
     "input": [
      "ren.SetBackground(1, 1, 1)\n",
      "fvtk.add(ren, fvtk.streamtube(streamlines, fvtk.colors.white))\n"
     ],
     "language": "python",
     "metadata": {},
     "outputs": [],
     "prompt_number": 6
    },
    {
     "cell_type": "code",
     "collapsed": false,
     "input": [
      "fvtk.show(ren)"
     ],
     "language": "python",
     "metadata": {},
     "outputs": [],
     "prompt_number": 7
    },
    {
     "cell_type": "raw",
     "metadata": {},
     "source": [
      "Show the centroids of the fornix after clustering (with random colors)"
     ]
    },
    {
     "cell_type": "code",
     "collapsed": false,
     "input": [
      "import numpy as np\n",
      "centroids = qb.centroids\n",
      "colormap = np.random.rand(len(centroids), 3)\n",
      "\n",
      "fvtk.clear(ren)\n",
      "ren.SetBackground(1, 1, 1)\n",
      "fvtk.add(ren, fvtk.streamtube(streamlines, fvtk.colors.white, opacity=0.05))\n",
      "fvtk.add(ren, fvtk.streamtube(centroids, colormap, linewidth=0.4))\n",
      "fvtk.show(ren)"
     ],
     "language": "python",
     "metadata": {},
     "outputs": [],
     "prompt_number": 8
    },
    {
     "cell_type": "raw",
     "metadata": {},
     "source": [
      "Show the different clusters with corresponding colors to their centroids"
     ]
    },
    {
     "cell_type": "code",
     "collapsed": false,
     "input": [
      "colormap_full = np.ones((len(streamlines), 3))\n",
      "for i, centroid in enumerate(centroids):\n",
      "    inds = qb.label2tracksids(i)\n",
      "    colormap_full[inds] = colormap[i]\n",
      "\n",
      "fvtk.clear(ren)\n",
      "ren.SetBackground(1, 1, 1)\n",
      "fvtk.add(ren, fvtk.streamtube(streamlines, colormap_full))\n",
      "fvtk.show(ren)\n"
     ],
     "language": "python",
     "metadata": {},
     "outputs": [],
     "prompt_number": 9
    },
    {
     "cell_type": "raw",
     "metadata": {},
     "source": [
      "Finally, in Dipy we try to create objects that are serializable and therefore pickable :)"
     ]
    },
    {
     "cell_type": "code",
     "collapsed": false,
     "input": [
      "from dipy.io.pickles import save_pickle"
     ],
     "language": "python",
     "metadata": {},
     "outputs": [],
     "prompt_number": 10
    },
    {
     "cell_type": "code",
     "collapsed": false,
     "input": [
      "save_pickle('QB.pkl', qb)"
     ],
     "language": "python",
     "metadata": {},
     "outputs": [],
     "prompt_number": 11
    },
    {
     "cell_type": "code",
     "collapsed": false,
     "input": [],
     "language": "python",
     "metadata": {},
     "outputs": []
    }
   ],
   "metadata": {}
  }
 ]
}